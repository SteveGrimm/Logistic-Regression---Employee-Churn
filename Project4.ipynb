{
 "cells": [
  {
   "cell_type": "markdown",
   "metadata": {
    "colab_type": "text",
    "id": "zB70gWuR5oVa"
   },
   "source": [
    "# Data Import"
   ]
  },
  {
   "cell_type": "code",
   "execution_count": 0,
   "metadata": {
    "colab": {
     "base_uri": "https://localhost:8080/",
     "height": 72
    },
    "colab_type": "code",
    "id": "zGfrvjcQTyUG",
    "outputId": "45ead456-97d6-4785-cc2a-077770dd69e9"
   },
   "outputs": [
    {
     "name": "stderr",
     "output_type": "stream",
     "text": [
      "/usr/local/lib/python3.6/dist-packages/statsmodels/tools/_testing.py:19: FutureWarning: pandas.util.testing is deprecated. Use the functions in the public API at pandas.testing instead.\n",
      "  import pandas.util.testing as tm\n"
     ]
    }
   ],
   "source": [
    "import pandas as pd\n",
    "import numpy as np\n",
    "import matplotlib.pyplot as plt\n",
    "import seaborn as sns"
   ]
  },
  {
   "cell_type": "code",
   "execution_count": 0,
   "metadata": {
    "colab": {},
    "colab_type": "code",
    "id": "0Xnn9770Bp7j"
   },
   "outputs": [],
   "source": [
    "from sklearn.linear_model import LogisticRegression\n",
    "from sklearn.model_selection import train_test_split\n",
    "from sklearn.preprocessing import StandardScaler\n",
    "from sklearn.metrics import (recall_score,log_loss)\n",
    "from sklearn.pipeline import Pipeline\n",
    "from sklearn.model_selection import cross_val_score, cross_validate\n",
    "from sklearn.metrics import classification_report"
   ]
  },
  {
   "cell_type": "code",
   "execution_count": 0,
   "metadata": {
    "colab": {
     "base_uri": "https://localhost:8080/",
     "height": 124
    },
    "colab_type": "code",
    "id": "FM5FKTuNXUm0",
    "outputId": "847c89b9-97e1-4207-d0f8-ad72458f8112"
   },
   "outputs": [
    {
     "name": "stdout",
     "output_type": "stream",
     "text": [
      "Go to this URL in a browser: https://accounts.google.com/o/oauth2/auth?client_id=947318989803-6bn6qk8qdgf4n4g3pfee6491hc0brc4i.apps.googleusercontent.com&redirect_uri=urn%3aietf%3awg%3aoauth%3a2.0%3aoob&response_type=code&scope=email%20https%3a%2f%2fwww.googleapis.com%2fauth%2fdocs.test%20https%3a%2f%2fwww.googleapis.com%2fauth%2fdrive%20https%3a%2f%2fwww.googleapis.com%2fauth%2fdrive.photos.readonly%20https%3a%2f%2fwww.googleapis.com%2fauth%2fpeopleapi.readonly\n",
      "\n",
      "Enter your authorization code:\n",
      "··········\n",
      "Mounted at /content/Drive\n"
     ]
    }
   ],
   "source": [
    "from google.colab import drive\n",
    "drive.mount('/content/Drive')"
   ]
  },
  {
   "cell_type": "code",
   "execution_count": 0,
   "metadata": {
    "colab": {},
    "colab_type": "code",
    "id": "N2q0MsroXYL0"
   },
   "outputs": [],
   "source": [
    "data = pd.read_csv('/content/Drive/My Drive/Colab Notebooks/1000ml/Unit2/Project4/hr-data.csv')"
   ]
  },
  {
   "cell_type": "markdown",
   "metadata": {
    "colab_type": "text",
    "id": "54BC_BygYVex"
   },
   "source": [
    "# Data Cleaning"
   ]
  },
  {
   "cell_type": "code",
   "execution_count": 0,
   "metadata": {
    "colab": {
     "base_uri": "https://localhost:8080/"
    },
    "colab_type": "code",
    "id": "_KS_AOqAYkwO",
    "outputId": "f4be599e-5861-4e34-fca4-4c36a411f50d"
   },
   "outputs": [
    {
     "data": {
      "text/plain": [
       "id                         int64\n",
       "satisfaction_level       float64\n",
       "last_evaluation          float64\n",
       "number_project             int64\n",
       "average_montly_hours       int64\n",
       "time_spend_company         int64\n",
       "Work_accident              int64\n",
       "churn                      int64\n",
       "promotion_last_5years      int64\n",
       "sales                     object\n",
       "salary                    object\n",
       "dtype: object"
      ]
     },
     "execution_count": 5,
     "metadata": {
      "tags": []
     },
     "output_type": "execute_result"
    }
   ],
   "source": [
    "data.dtypes"
   ]
  },
  {
   "cell_type": "code",
   "execution_count": 0,
   "metadata": {
    "colab": {
     "base_uri": "https://localhost:8080/"
    },
    "colab_type": "code",
    "id": "j95cZaIpYv-K",
    "outputId": "10d2a219-0454-49c8-d841-136cf9dda2b8"
   },
   "outputs": [
    {
     "data": {
      "text/plain": [
       "id                       0\n",
       "satisfaction_level       0\n",
       "last_evaluation          0\n",
       "number_project           0\n",
       "average_montly_hours     0\n",
       "time_spend_company       0\n",
       "Work_accident            0\n",
       "churn                    0\n",
       "promotion_last_5years    0\n",
       "sales                    0\n",
       "salary                   0\n",
       "dtype: int64"
      ]
     },
     "execution_count": 6,
     "metadata": {
      "tags": []
     },
     "output_type": "execute_result"
    }
   ],
   "source": [
    "data.isnull().sum()"
   ]
  },
  {
   "cell_type": "markdown",
   "metadata": {
    "colab_type": "text",
    "id": "yAjc4lINYz5y"
   },
   "source": [
    "# EDA"
   ]
  },
  {
   "cell_type": "code",
   "execution_count": 0,
   "metadata": {
    "colab": {
     "base_uri": "https://localhost:8080/",
     "height": 35
    },
    "colab_type": "code",
    "id": "KmiKed-Scoz1",
    "outputId": "dc246767-91e9-42f6-decf-7114e23e8f45"
   },
   "outputs": [
    {
     "data": {
      "text/plain": [
       "(14999, 11)"
      ]
     },
     "execution_count": 7,
     "metadata": {
      "tags": []
     },
     "output_type": "execute_result"
    }
   ],
   "source": [
    "data.shape"
   ]
  },
  {
   "cell_type": "code",
   "execution_count": 0,
   "metadata": {
    "colab": {
     "base_uri": "https://localhost:8080/",
     "height": 130
    },
    "colab_type": "code",
    "id": "TYH1tLKEZpCu",
    "outputId": "82b04471-298b-48cb-fcd9-3eb5a936f5ae"
   },
   "outputs": [
    {
     "data": {
      "text/html": [
       "<div>\n",
       "<style scoped>\n",
       "    .dataframe tbody tr th:only-of-type {\n",
       "        vertical-align: middle;\n",
       "    }\n",
       "\n",
       "    .dataframe tbody tr th {\n",
       "        vertical-align: top;\n",
       "    }\n",
       "\n",
       "    .dataframe thead th {\n",
       "        text-align: right;\n",
       "    }\n",
       "</style>\n",
       "<table border=\"1\" class=\"dataframe\">\n",
       "  <thead>\n",
       "    <tr style=\"text-align: right;\">\n",
       "      <th></th>\n",
       "      <th>id</th>\n",
       "      <th>satisfaction_level</th>\n",
       "      <th>last_evaluation</th>\n",
       "      <th>number_project</th>\n",
       "      <th>average_montly_hours</th>\n",
       "      <th>time_spend_company</th>\n",
       "      <th>Work_accident</th>\n",
       "      <th>churn</th>\n",
       "      <th>promotion_last_5years</th>\n",
       "      <th>sales</th>\n",
       "      <th>salary</th>\n",
       "    </tr>\n",
       "  </thead>\n",
       "  <tbody>\n",
       "    <tr>\n",
       "      <th>0</th>\n",
       "      <td>0</td>\n",
       "      <td>0.38</td>\n",
       "      <td>0.53</td>\n",
       "      <td>2</td>\n",
       "      <td>157</td>\n",
       "      <td>3</td>\n",
       "      <td>0</td>\n",
       "      <td>1</td>\n",
       "      <td>0</td>\n",
       "      <td>sales</td>\n",
       "      <td>low</td>\n",
       "    </tr>\n",
       "    <tr>\n",
       "      <th>1</th>\n",
       "      <td>1</td>\n",
       "      <td>0.80</td>\n",
       "      <td>0.86</td>\n",
       "      <td>5</td>\n",
       "      <td>262</td>\n",
       "      <td>6</td>\n",
       "      <td>0</td>\n",
       "      <td>1</td>\n",
       "      <td>0</td>\n",
       "      <td>sales</td>\n",
       "      <td>medium</td>\n",
       "    </tr>\n",
       "  </tbody>\n",
       "</table>\n",
       "</div>"
      ],
      "text/plain": [
       "   id  satisfaction_level  ...  sales  salary\n",
       "0   0                0.38  ...  sales     low\n",
       "1   1                0.80  ...  sales  medium\n",
       "\n",
       "[2 rows x 11 columns]"
      ]
     },
     "execution_count": 8,
     "metadata": {
      "tags": []
     },
     "output_type": "execute_result"
    }
   ],
   "source": [
    "data.head(2)"
   ]
  },
  {
   "cell_type": "markdown",
   "metadata": {
    "colab_type": "text",
    "id": "-jq0LImePb1M"
   },
   "source": [
    "## Aggregate Statistics\n",
    "\n",
    "* For employees that have churned:\n",
    "  * satisfaction is lower\n",
    "  * Monthly hours are higher\n",
    "  * Time spent with the company is higher\n",
    "  * Number of promotions are lower\n",
    "  * Accidents are lower\n",
    "\n",
    "* `high`-`salary` employees have churned less\n",
    "* `management` and `RandD` have less churns than the other `sales`"
   ]
  },
  {
   "cell_type": "code",
   "execution_count": 0,
   "metadata": {
    "colab": {},
    "colab_type": "code",
    "id": "fNDA9nJ14TTe"
   },
   "outputs": [],
   "source": [
    "def stats(variable):\n",
    "  '''\n",
    "  Displays the means across all numerical variables grouped for the given variable\n",
    "  '''\n",
    "  return data.groupby(variable).mean()"
   ]
  },
  {
   "cell_type": "code",
   "execution_count": 0,
   "metadata": {
    "colab": {
     "base_uri": "https://localhost:8080/",
     "height": 225
    },
    "colab_type": "code",
    "id": "MWQIMGyxguLN",
    "outputId": "cbdcafd0-3fd3-41b4-bdc7-400f9c03aa3d"
   },
   "outputs": [
    {
     "data": {
      "text/plain": [
       "id                       14999\n",
       "satisfaction_level          92\n",
       "last_evaluation             65\n",
       "number_project               6\n",
       "average_montly_hours       215\n",
       "time_spend_company           8\n",
       "Work_accident                2\n",
       "churn                        2\n",
       "promotion_last_5years        2\n",
       "sales                       10\n",
       "salary                       3\n",
       "dtype: int64"
      ]
     },
     "execution_count": 9,
     "metadata": {
      "tags": []
     },
     "output_type": "execute_result"
    }
   ],
   "source": [
    "data.nunique()"
   ]
  },
  {
   "cell_type": "code",
   "execution_count": 0,
   "metadata": {
    "colab": {
     "base_uri": "https://localhost:8080/",
     "height": 161
    },
    "colab_type": "code",
    "id": "EKhCFQX9Per6",
    "outputId": "90b3c7f5-6018-40cb-b06d-b2d6650b78a2"
   },
   "outputs": [
    {
     "data": {
      "text/html": [
       "<div>\n",
       "<style scoped>\n",
       "    .dataframe tbody tr th:only-of-type {\n",
       "        vertical-align: middle;\n",
       "    }\n",
       "\n",
       "    .dataframe tbody tr th {\n",
       "        vertical-align: top;\n",
       "    }\n",
       "\n",
       "    .dataframe thead th {\n",
       "        text-align: right;\n",
       "    }\n",
       "</style>\n",
       "<table border=\"1\" class=\"dataframe\">\n",
       "  <thead>\n",
       "    <tr style=\"text-align: right;\">\n",
       "      <th></th>\n",
       "      <th>id</th>\n",
       "      <th>satisfaction_level</th>\n",
       "      <th>last_evaluation</th>\n",
       "      <th>number_project</th>\n",
       "      <th>average_montly_hours</th>\n",
       "      <th>time_spend_company</th>\n",
       "      <th>Work_accident</th>\n",
       "      <th>promotion_last_5years</th>\n",
       "      <th>sales</th>\n",
       "      <th>salary</th>\n",
       "    </tr>\n",
       "    <tr>\n",
       "      <th>churn</th>\n",
       "      <th></th>\n",
       "      <th></th>\n",
       "      <th></th>\n",
       "      <th></th>\n",
       "      <th></th>\n",
       "      <th></th>\n",
       "      <th></th>\n",
       "      <th></th>\n",
       "      <th></th>\n",
       "      <th></th>\n",
       "    </tr>\n",
       "  </thead>\n",
       "  <tbody>\n",
       "    <tr>\n",
       "      <th>0</th>\n",
       "      <td>7811.340742</td>\n",
       "      <td>0.666810</td>\n",
       "      <td>0.715473</td>\n",
       "      <td>3.786664</td>\n",
       "      <td>199.060203</td>\n",
       "      <td>3.380032</td>\n",
       "      <td>0.175009</td>\n",
       "      <td>0.026251</td>\n",
       "      <td>1.0</td>\n",
       "      <td>0.0</td>\n",
       "    </tr>\n",
       "    <tr>\n",
       "      <th>1</th>\n",
       "      <td>6499.439653</td>\n",
       "      <td>0.440098</td>\n",
       "      <td>0.718113</td>\n",
       "      <td>3.855503</td>\n",
       "      <td>207.419210</td>\n",
       "      <td>3.876505</td>\n",
       "      <td>0.047326</td>\n",
       "      <td>0.005321</td>\n",
       "      <td>1.0</td>\n",
       "      <td>0.0</td>\n",
       "    </tr>\n",
       "  </tbody>\n",
       "</table>\n",
       "</div>"
      ],
      "text/plain": [
       "                id  satisfaction_level  ...  sales  salary\n",
       "churn                                   ...               \n",
       "0      7811.340742            0.666810  ...    1.0     0.0\n",
       "1      6499.439653            0.440098  ...    1.0     0.0\n",
       "\n",
       "[2 rows x 10 columns]"
      ]
     },
     "execution_count": 139,
     "metadata": {
      "tags": []
     },
     "output_type": "execute_result"
    }
   ],
   "source": [
    "stats('churn')"
   ]
  },
  {
   "cell_type": "code",
   "execution_count": 0,
   "metadata": {
    "colab": {
     "base_uri": "https://localhost:8080/",
     "height": 161
    },
    "colab_type": "code",
    "id": "8rz5FuDxRaI7",
    "outputId": "fc0fec53-f4e5-411a-cfe4-89e0a7e2ad2b"
   },
   "outputs": [
    {
     "data": {
      "text/html": [
       "<div>\n",
       "<style scoped>\n",
       "    .dataframe tbody tr th:only-of-type {\n",
       "        vertical-align: middle;\n",
       "    }\n",
       "\n",
       "    .dataframe tbody tr th {\n",
       "        vertical-align: top;\n",
       "    }\n",
       "\n",
       "    .dataframe thead th {\n",
       "        text-align: right;\n",
       "    }\n",
       "</style>\n",
       "<table border=\"1\" class=\"dataframe\">\n",
       "  <thead>\n",
       "    <tr style=\"text-align: right;\">\n",
       "      <th></th>\n",
       "      <th>id</th>\n",
       "      <th>satisfaction_level</th>\n",
       "      <th>last_evaluation</th>\n",
       "      <th>number_project</th>\n",
       "      <th>average_montly_hours</th>\n",
       "      <th>time_spend_company</th>\n",
       "      <th>churn</th>\n",
       "      <th>promotion_last_5years</th>\n",
       "      <th>sales</th>\n",
       "      <th>salary</th>\n",
       "    </tr>\n",
       "    <tr>\n",
       "      <th>Work_accident</th>\n",
       "      <th></th>\n",
       "      <th></th>\n",
       "      <th></th>\n",
       "      <th></th>\n",
       "      <th></th>\n",
       "      <th></th>\n",
       "      <th></th>\n",
       "      <th></th>\n",
       "      <th></th>\n",
       "      <th></th>\n",
       "    </tr>\n",
       "  </thead>\n",
       "  <tbody>\n",
       "    <tr>\n",
       "      <th>0</th>\n",
       "      <td>7470.638893</td>\n",
       "      <td>0.606833</td>\n",
       "      <td>0.716602</td>\n",
       "      <td>3.805456</td>\n",
       "      <td>201.258613</td>\n",
       "      <td>3.496960</td>\n",
       "      <td>0.265160</td>\n",
       "      <td>0.018940</td>\n",
       "      <td>1.0</td>\n",
       "      <td>0.0</td>\n",
       "    </tr>\n",
       "    <tr>\n",
       "      <th>1</th>\n",
       "      <td>7666.760719</td>\n",
       "      <td>0.648326</td>\n",
       "      <td>0.713144</td>\n",
       "      <td>3.788843</td>\n",
       "      <td>199.818349</td>\n",
       "      <td>3.505763</td>\n",
       "      <td>0.077916</td>\n",
       "      <td>0.035039</td>\n",
       "      <td>1.0</td>\n",
       "      <td>0.0</td>\n",
       "    </tr>\n",
       "  </tbody>\n",
       "</table>\n",
       "</div>"
      ],
      "text/plain": [
       "                        id  satisfaction_level  ...  sales  salary\n",
       "Work_accident                                   ...               \n",
       "0              7470.638893            0.606833  ...    1.0     0.0\n",
       "1              7666.760719            0.648326  ...    1.0     0.0\n",
       "\n",
       "[2 rows x 10 columns]"
      ]
     },
     "execution_count": 140,
     "metadata": {
      "tags": []
     },
     "output_type": "execute_result"
    }
   ],
   "source": [
    "stats(categorical_variables[0])"
   ]
  },
  {
   "cell_type": "code",
   "execution_count": 0,
   "metadata": {
    "colab": {
     "base_uri": "https://localhost:8080/",
     "height": 161
    },
    "colab_type": "code",
    "id": "S0ylx52VRc0v",
    "outputId": "799764e8-363a-4cba-a513-5fa62b15de38"
   },
   "outputs": [
    {
     "data": {
      "text/html": [
       "<div>\n",
       "<style scoped>\n",
       "    .dataframe tbody tr th:only-of-type {\n",
       "        vertical-align: middle;\n",
       "    }\n",
       "\n",
       "    .dataframe tbody tr th {\n",
       "        vertical-align: top;\n",
       "    }\n",
       "\n",
       "    .dataframe thead th {\n",
       "        text-align: right;\n",
       "    }\n",
       "</style>\n",
       "<table border=\"1\" class=\"dataframe\">\n",
       "  <thead>\n",
       "    <tr style=\"text-align: right;\">\n",
       "      <th></th>\n",
       "      <th>id</th>\n",
       "      <th>satisfaction_level</th>\n",
       "      <th>last_evaluation</th>\n",
       "      <th>number_project</th>\n",
       "      <th>average_montly_hours</th>\n",
       "      <th>time_spend_company</th>\n",
       "      <th>Work_accident</th>\n",
       "      <th>churn</th>\n",
       "      <th>sales</th>\n",
       "      <th>salary</th>\n",
       "    </tr>\n",
       "    <tr>\n",
       "      <th>promotion_last_5years</th>\n",
       "      <th></th>\n",
       "      <th></th>\n",
       "      <th></th>\n",
       "      <th></th>\n",
       "      <th></th>\n",
       "      <th></th>\n",
       "      <th></th>\n",
       "      <th></th>\n",
       "      <th></th>\n",
       "      <th></th>\n",
       "    </tr>\n",
       "  </thead>\n",
       "  <tbody>\n",
       "    <tr>\n",
       "      <th>0</th>\n",
       "      <td>7442.197820</td>\n",
       "      <td>0.611895</td>\n",
       "      <td>0.716321</td>\n",
       "      <td>3.804155</td>\n",
       "      <td>201.076431</td>\n",
       "      <td>3.483719</td>\n",
       "      <td>0.142575</td>\n",
       "      <td>0.241962</td>\n",
       "      <td>1.0</td>\n",
       "      <td>0.0</td>\n",
       "    </tr>\n",
       "    <tr>\n",
       "      <th>1</th>\n",
       "      <td>10112.968652</td>\n",
       "      <td>0.656019</td>\n",
       "      <td>0.706019</td>\n",
       "      <td>3.752351</td>\n",
       "      <td>199.849530</td>\n",
       "      <td>4.166144</td>\n",
       "      <td>0.238245</td>\n",
       "      <td>0.059561</td>\n",
       "      <td>1.0</td>\n",
       "      <td>0.0</td>\n",
       "    </tr>\n",
       "  </tbody>\n",
       "</table>\n",
       "</div>"
      ],
      "text/plain": [
       "                                 id  satisfaction_level  ...  sales  salary\n",
       "promotion_last_5years                                    ...               \n",
       "0                       7442.197820            0.611895  ...    1.0     0.0\n",
       "1                      10112.968652            0.656019  ...    1.0     0.0\n",
       "\n",
       "[2 rows x 10 columns]"
      ]
     },
     "execution_count": 141,
     "metadata": {
      "tags": []
     },
     "output_type": "execute_result"
    }
   ],
   "source": [
    "stats(categorical_variables[1])"
   ]
  },
  {
   "cell_type": "code",
   "execution_count": 0,
   "metadata": {
    "colab": {
     "base_uri": "https://localhost:8080/",
     "height": 130
    },
    "colab_type": "code",
    "id": "MjbrC3A6Rc5K",
    "outputId": "3d289472-54fb-4f22-d79d-62273c90a818"
   },
   "outputs": [
    {
     "data": {
      "text/html": [
       "<div>\n",
       "<style scoped>\n",
       "    .dataframe tbody tr th:only-of-type {\n",
       "        vertical-align: middle;\n",
       "    }\n",
       "\n",
       "    .dataframe tbody tr th {\n",
       "        vertical-align: top;\n",
       "    }\n",
       "\n",
       "    .dataframe thead th {\n",
       "        text-align: right;\n",
       "    }\n",
       "</style>\n",
       "<table border=\"1\" class=\"dataframe\">\n",
       "  <thead>\n",
       "    <tr style=\"text-align: right;\">\n",
       "      <th></th>\n",
       "      <th>id</th>\n",
       "      <th>satisfaction_level</th>\n",
       "      <th>last_evaluation</th>\n",
       "      <th>number_project</th>\n",
       "      <th>average_montly_hours</th>\n",
       "      <th>time_spend_company</th>\n",
       "      <th>Work_accident</th>\n",
       "      <th>churn</th>\n",
       "      <th>promotion_last_5years</th>\n",
       "      <th>salary</th>\n",
       "    </tr>\n",
       "    <tr>\n",
       "      <th>sales</th>\n",
       "      <th></th>\n",
       "      <th></th>\n",
       "      <th></th>\n",
       "      <th></th>\n",
       "      <th></th>\n",
       "      <th></th>\n",
       "      <th></th>\n",
       "      <th></th>\n",
       "      <th></th>\n",
       "      <th></th>\n",
       "    </tr>\n",
       "  </thead>\n",
       "  <tbody>\n",
       "    <tr>\n",
       "      <th>1</th>\n",
       "      <td>7499.0</td>\n",
       "      <td>0.612834</td>\n",
       "      <td>0.716102</td>\n",
       "      <td>3.803054</td>\n",
       "      <td>201.050337</td>\n",
       "      <td>3.498233</td>\n",
       "      <td>0.14461</td>\n",
       "      <td>0.238083</td>\n",
       "      <td>0.021268</td>\n",
       "      <td>0.0</td>\n",
       "    </tr>\n",
       "  </tbody>\n",
       "</table>\n",
       "</div>"
      ],
      "text/plain": [
       "           id  satisfaction_level  ...  promotion_last_5years  salary\n",
       "sales                              ...                               \n",
       "1      7499.0            0.612834  ...               0.021268     0.0\n",
       "\n",
       "[1 rows x 10 columns]"
      ]
     },
     "execution_count": 142,
     "metadata": {
      "tags": []
     },
     "output_type": "execute_result"
    }
   ],
   "source": [
    "stats(categorical_variables[2])"
   ]
  },
  {
   "cell_type": "code",
   "execution_count": 0,
   "metadata": {
    "colab": {
     "base_uri": "https://localhost:8080/",
     "height": 130
    },
    "colab_type": "code",
    "id": "SfnnCRXqTZpk",
    "outputId": "1ba3abcd-b167-481e-8846-308599102420"
   },
   "outputs": [
    {
     "data": {
      "text/html": [
       "<div>\n",
       "<style scoped>\n",
       "    .dataframe tbody tr th:only-of-type {\n",
       "        vertical-align: middle;\n",
       "    }\n",
       "\n",
       "    .dataframe tbody tr th {\n",
       "        vertical-align: top;\n",
       "    }\n",
       "\n",
       "    .dataframe thead th {\n",
       "        text-align: right;\n",
       "    }\n",
       "</style>\n",
       "<table border=\"1\" class=\"dataframe\">\n",
       "  <thead>\n",
       "    <tr style=\"text-align: right;\">\n",
       "      <th></th>\n",
       "      <th>id</th>\n",
       "      <th>satisfaction_level</th>\n",
       "      <th>last_evaluation</th>\n",
       "      <th>number_project</th>\n",
       "      <th>average_montly_hours</th>\n",
       "      <th>time_spend_company</th>\n",
       "      <th>Work_accident</th>\n",
       "      <th>churn</th>\n",
       "      <th>promotion_last_5years</th>\n",
       "      <th>sales</th>\n",
       "    </tr>\n",
       "    <tr>\n",
       "      <th>salary</th>\n",
       "      <th></th>\n",
       "      <th></th>\n",
       "      <th></th>\n",
       "      <th></th>\n",
       "      <th></th>\n",
       "      <th></th>\n",
       "      <th></th>\n",
       "      <th></th>\n",
       "      <th></th>\n",
       "      <th></th>\n",
       "    </tr>\n",
       "  </thead>\n",
       "  <tbody>\n",
       "    <tr>\n",
       "      <th>0</th>\n",
       "      <td>7499.0</td>\n",
       "      <td>0.612834</td>\n",
       "      <td>0.716102</td>\n",
       "      <td>3.803054</td>\n",
       "      <td>201.050337</td>\n",
       "      <td>3.498233</td>\n",
       "      <td>0.14461</td>\n",
       "      <td>0.238083</td>\n",
       "      <td>0.021268</td>\n",
       "      <td>1.0</td>\n",
       "    </tr>\n",
       "  </tbody>\n",
       "</table>\n",
       "</div>"
      ],
      "text/plain": [
       "            id  satisfaction_level  ...  promotion_last_5years  sales\n",
       "salary                              ...                              \n",
       "0       7499.0            0.612834  ...               0.021268    1.0\n",
       "\n",
       "[1 rows x 10 columns]"
      ]
     },
     "execution_count": 143,
     "metadata": {
      "tags": []
     },
     "output_type": "execute_result"
    }
   ],
   "source": [
    "stats(categorical_variables[3])"
   ]
  },
  {
   "cell_type": "markdown",
   "metadata": {
    "colab_type": "text",
    "id": "Uol5QgtBWDTX"
   },
   "source": [
    "It seems that employees in the high salary bracket are less likely to churn."
   ]
  },
  {
   "cell_type": "markdown",
   "metadata": {},
   "source": [
    "## Feedback\n",
    "\n",
    "I should avoid displaying the mean of categorical/binary columns if they were numerically encoded if possible."
   ]
  },
  {
   "cell_type": "code",
   "execution_count": 0,
   "metadata": {
    "colab": {},
    "colab_type": "code",
    "id": "MzCKLmzphr2J"
   },
   "outputs": [],
   "source": [
    "#Setting what the categorical, numerical, and target variables are\n",
    "\n",
    "categorical_variables = ['Work_accident','promotion_last_5years','sales','salary']\n",
    "\n",
    "numerical_variables = ['id','satisfaction_level','last_evaluation',\n",
    "                       'average_montly_hours','number_project','time_spend_company']\n",
    "\n",
    "target = 'Churn'"
   ]
  },
  {
   "cell_type": "markdown",
   "metadata": {
    "colab_type": "text",
    "id": "uaBGWAAV4XZv"
   },
   "source": [
    "## Distributions\n",
    "\n",
    "* all categorical variables seem good predictors"
   ]
  },
  {
   "cell_type": "code",
   "execution_count": 0,
   "metadata": {
    "colab": {
     "base_uri": "https://localhost:8080/",
     "height": 494
    },
    "colab_type": "code",
    "id": "NoHa9ie7b9je",
    "outputId": "6dfbb145-03b1-4761-c3df-14701c80d1a5"
   },
   "outputs": [
    {
     "data": {
      "image/png": "[encoded data removed]",
      "text/plain": [
       "<Figure size 1080x504 with 6 Axes>"
      ]
     },
     "metadata": {
      "needs_background": "light",
      "tags": []
     },
     "output_type": "display_data"
    }
   ],
   "source": [
    "fig, axs = plt.subplots(2,3, figsize=(15,7))\n",
    "\n",
    "for column, ax in zip(numerical_variables, axs.flatten()):\n",
    "  sns.distplot(data[column],ax=ax)\n",
    "\n",
    "plt.suptitle('Distribution of Numerical Variables')\n",
    "plt.show()"
   ]
  },
  {
   "cell_type": "code",
   "execution_count": 0,
   "metadata": {
    "colab": {
     "base_uri": "https://localhost:8080/",
     "height": 443
    },
    "colab_type": "code",
    "id": "r4qiXviKpo2V",
    "outputId": "48dbff20-c20f-46b6-f150-167e6af67d18"
   },
   "outputs": [
    {
     "data": {
      "image/png": "[encoded data removed]",
      "text/plain": [
       "<Figure size 1080x504 with 6 Axes>"
      ]
     },
     "metadata": {
      "needs_background": "light",
      "tags": []
     },
     "output_type": "display_data"
    }
   ],
   "source": [
    "fig, axs = plt.subplots(2,3, figsize=(15,7))\n",
    "\n",
    "for column, ax in zip(numerical_variables, axs.flatten()):\n",
    "  ax.hist(data[data['churn']==False][column],label='False',color='red',alpha=0.8)\n",
    "  ax.hist(data[data['churn']==True][column],label=\"True\",alpha=0.7)\n",
    "\n",
    "  ax.set_xlabel(column)\n",
    "  ax.set_ylabel('Churn')\n",
    "  ax.legend()\n",
    "\n",
    "plt.show()"
   ]
  },
  {
   "cell_type": "markdown",
   "metadata": {},
   "source": [
    "## Feedback\n",
    "\n",
    "I'm not the biggest fan of the above plot (maybe because it seems busy, but it works. I also get the feeling that I'm supposed to be in a 3D movie theatre) but it does seem interesting to see that there is a weird association between employee ID's and churn."
   ]
  },
  {
   "cell_type": "code",
   "execution_count": 0,
   "metadata": {
    "colab": {
     "base_uri": "https://localhost:8080/",
     "height": 303
    },
    "colab_type": "code",
    "id": "S3ojoCJYe-SK",
    "outputId": "b70f24f0-116f-45ce-89d7-32d6db51500f"
   },
   "outputs": [
    {
     "data": {
      "image/png": "[encoded data removed]",
      "text/plain": [
       "<Figure size 1080x216 with 4 Axes>"
      ]
     },
     "metadata": {
      "needs_background": "light",
      "tags": []
     },
     "output_type": "display_data"
    }
   ],
   "source": [
    "fig, axs = plt.subplots(1,4, figsize=(15,3))\n",
    "\n",
    "for column, ax in zip(categorical_variables, axs.flatten()):\n",
    "  data[column].value_counts().sort_index().plot(kind='bar',ax=ax,rot=90)\n",
    "  ax.set_xlabel(column)\n",
    "\n",
    "plt.suptitle('Distribution of Categorical Variables')\n",
    "plt.show()"
   ]
  },
  {
   "cell_type": "code",
   "execution_count": 0,
   "metadata": {
    "colab": {
     "base_uri": "https://localhost:8080/",
     "height": 303
    },
    "colab_type": "code",
    "id": "HnZelujTsqUw",
    "outputId": "f45ac39e-d943-4937-beea-6d524f1e4e74"
   },
   "outputs": [
    {
     "data": {
      "image/png": "[encoded data removed]",
      "text/plain": [
       "<Figure size 1080x216 with 4 Axes>"
      ]
     },
     "metadata": {
      "needs_background": "light",
      "tags": []
     },
     "output_type": "display_data"
    }
   ],
   "source": [
    "fig, axs = plt.subplots(1,4, figsize=(15,3))\n",
    "\n",
    "for column, ax in zip(categorical_variables, axs.flatten()):\n",
    "\n",
    "  table=pd.crosstab(data[column],data['churn'])\n",
    "  table.div(table.sum(1).astype(float), axis=0).plot(kind='bar', stacked=True,ax=ax)\n",
    "\n",
    "  # data[column][data['churn']==False].value_counts().sort_index().plot(kind='bar',ax=ax,rot=90,color='red',alpha=0.8)\n",
    "  # data[column][data['churn']==True].value_counts().sort_index().plot(kind='bar',ax=ax,rot=90,alpha=0.7)\n",
    "  ax.set_xlabel(column)\n",
    "\n",
    "plt.suptitle('Distribution of Categorical Variables')\n",
    "plt.show()"
   ]
  },
  {
   "cell_type": "markdown",
   "metadata": {},
   "source": [
    "## Feedback\n",
    "\n",
    "I am a fan of the above barplot. This clearly shows the proportion of churn victims by categorical variables. Good job here on the analysis too. \n",
    "\n",
    "Any possible explanation for churn given what we see from these couple of graphs? It might be obvious, but stating the obvious is better than just not doing it at all in this case."
   ]
  },
  {
   "cell_type": "markdown",
   "metadata": {
    "colab_type": "text",
    "id": "cQeSkORsMF4m"
   },
   "source": [
    "For sales, we see that RandD and management have lower churn rates than the other categories. We will group those two together and assign values of 0, and 1 for the other categories, in order to reduce the amount of features.\n",
    "\n",
    "The same will be done with salary, where a high salary has a lower churn rate than low or medium salary. 1 will be assigned to medium and low salaries, 0 to high salaries.\n",
    "\n",
    "This greatily reduces the amount of variables (read: dummy variables) we have to take into our model."
   ]
  },
  {
   "cell_type": "code",
   "execution_count": 0,
   "metadata": {
    "colab": {},
    "colab_type": "code",
    "id": "RDJWdqa4NERP"
   },
   "outputs": [],
   "source": [
    "data['salary'] = np.where(data['salary'].isin(['low','medium']), 1, 0)\n",
    "data['sales'] = np.where(data['sales'].isin(['RandD','management']), 0, 1)"
   ]
  },
  {
   "cell_type": "code",
   "execution_count": 0,
   "metadata": {
    "colab": {
     "base_uri": "https://localhost:8080/",
     "height": 308
    },
    "colab_type": "code",
    "id": "KW4cwTjaxLAo",
    "outputId": "c025113f-d053-4c46-b412-9f37f1bc5471"
   },
   "outputs": [
    {
     "data": {
      "image/png": "[encoded data removed]",
      "text/plain": [
       "<Figure size 432x288 with 1 Axes>"
      ]
     },
     "metadata": {
      "needs_background": "light",
      "tags": []
     },
     "output_type": "display_data"
    }
   ],
   "source": [
    "data['churn'].value_counts().sort_index().plot(kind='bar',rot=0)\n",
    "plt.xlabel('Churn')\n",
    "plt.suptitle('Distribution of Target Variable')\n",
    "plt.show()"
   ]
  },
  {
   "cell_type": "markdown",
   "metadata": {
    "colab_type": "text",
    "id": "x_mAxlce3at_"
   },
   "source": [
    "## Scatterplots\n",
    "\n",
    "* reveal no significant trends"
   ]
  },
  {
   "cell_type": "code",
   "execution_count": 0,
   "metadata": {
    "colab": {
     "base_uri": "https://localhost:8080/",
     "height": 494
    },
    "colab_type": "code",
    "id": "SK03w2u44cVH",
    "outputId": "1280a95b-f815-4596-ae2b-bda6ff568613"
   },
   "outputs": [
    {
     "data": {
      "image/png": "[encoded data removed]",
      "text/plain": [
       "<Figure size 1080x504 with 6 Axes>"
      ]
     },
     "metadata": {
      "needs_background": "light",
      "tags": []
     },
     "output_type": "display_data"
    }
   ],
   "source": [
    "fig, axs = plt.subplots(2,3, figsize=(15,7))\n",
    "\n",
    "for column, ax in zip(numerical_variables, axs.flatten()):\n",
    "  ax.scatter(data[column],data['churn'])\n",
    "  ax.set_xlabel(column)\n",
    "\n",
    "plt.suptitle('Scatterplots of numerical Variables vs. Churn')\n",
    "plt.show()"
   ]
  },
  {
   "cell_type": "code",
   "execution_count": 0,
   "metadata": {
    "colab": {
     "base_uri": "https://localhost:8080/",
     "height": 247
    },
    "colab_type": "code",
    "id": "VgZxJNT1S8K0",
    "outputId": "02e64a34-a772-469b-e1d3-8ef4f8443d36"
   },
   "outputs": [
    {
     "data": {
      "image/png": "[encoded data removed]",
      "text/plain": [
       "<Figure size 1080x216 with 4 Axes>"
      ]
     },
     "metadata": {
      "needs_background": "light",
      "tags": []
     },
     "output_type": "display_data"
    }
   ],
   "source": [
    "fig, axs = plt.subplots(1,4, figsize=(15,3))\n",
    "\n",
    "for column, ax in zip(categorical_variables, axs.flatten()):\n",
    "  ax.scatter(data[column],data['churn'])\n",
    "  ax.set_xlabel(column)\n",
    "\n",
    "plt.suptitle('Scatterplots of categorical Variables vs. Churn')\n",
    "plt.show()"
   ]
  },
  {
   "cell_type": "markdown",
   "metadata": {
    "colab_type": "text",
    "id": "uywUc2NJNQdL"
   },
   "source": [
    "These beautiful scatter plots offer little to no value, great!"
   ]
  },
  {
   "cell_type": "markdown",
   "metadata": {
    "colab_type": "text",
    "id": "oUwvuraG54N-"
   },
   "source": [
    "#Logistic Regression"
   ]
  },
  {
   "cell_type": "markdown",
   "metadata": {
    "colab_type": "text",
    "id": "BigGOr9v4rmn"
   },
   "source": [
    "Best parameters:\n",
    "  * 'C': 1e-06 \n",
    "  * 'class_weight': 'balanced'\n",
    "  * 'penalty': 'l2'\n",
    "  * 'solver': 'liblinear'\n",
    "\n",
    "Performance:\n",
    "  * Recall Score: 0.834206"
   ]
  },
  {
   "cell_type": "markdown",
   "metadata": {
    "colab_type": "text",
    "id": "Ii7aX51BEVj8"
   },
   "source": [
    "###Model 1: Single Variable\n",
    "\n",
    "Modelling churn with a single variable does not yield any significant results, unfortunately."
   ]
  },
  {
   "cell_type": "code",
   "execution_count": 0,
   "metadata": {
    "colab": {},
    "colab_type": "code",
    "id": "du3YEI0lPOK_"
   },
   "outputs": [],
   "source": [
    "def sigmoid_curve(x):\n",
    "  return 1/(1 + np.exp(-x))"
   ]
  },
  {
   "cell_type": "code",
   "execution_count": 0,
   "metadata": {
    "colab": {},
    "colab_type": "code",
    "id": "2w7WS2FOuAhA"
   },
   "outputs": [],
   "source": [
    "def log_to_prob(num):\n",
    "  '''\n",
    "  This function transforms log odds values back to probabilities\n",
    "  '''\n",
    "  return np.exp(num) / (1 + np.exp(num))"
   ]
  },
  {
   "cell_type": "code",
   "execution_count": 0,
   "metadata": {
    "colab": {
     "base_uri": "https://localhost:8080/",
     "height": 156
    },
    "colab_type": "code",
    "id": "s1TAcp5XPpie",
    "outputId": "cf15b5a3-cd66-4fcd-b4c6-a407f81f537a"
   },
   "outputs": [
    {
     "name": "stderr",
     "output_type": "stream",
     "text": [
      "[Parallel(n_jobs=1)]: Using backend SequentialBackend with 1 concurrent workers.\n",
      "[Parallel(n_jobs=1)]: Done   1 out of   1 | elapsed:    0.1s remaining:    0.0s\n",
      "[Parallel(n_jobs=1)]: Done   1 out of   1 | elapsed:    0.1s finished\n"
     ]
    },
    {
     "data": {
      "text/plain": [
       "LogisticRegression(C=1.0, class_weight=None, dual=False, fit_intercept=True,\n",
       "                   intercept_scaling=1, l1_ratio=None, max_iter=1000,\n",
       "                   multi_class='auto', n_jobs=None, penalty='none',\n",
       "                   random_state=None, solver='lbfgs', tol=0.0001, verbose=2,\n",
       "                   warm_start=False)"
      ]
     },
     "execution_count": 29,
     "metadata": {
      "tags": []
     },
     "output_type": "execute_result"
    }
   ],
   "source": [
    "#set the variable\n",
    "x = data[['average_montly_hours']]\n",
    "y = data['churn']\n",
    "\n",
    "x_train, x_val, y_train, y_val = train_test_split(x,y,\n",
    "                                                  test_size = 0.2,\n",
    "                                                  random_state = 42)\n",
    "\n",
    "#set the model\n",
    "#clf stands for classifier\n",
    "clf = LogisticRegression(penalty='none',solver='lbfgs',verbose=2,max_iter=1000)\n",
    "\n",
    "#fit the model\n",
    "clf.fit(x_train,y_train)"
   ]
  },
  {
   "cell_type": "code",
   "execution_count": 0,
   "metadata": {
    "colab": {
     "base_uri": "https://localhost:8080/",
     "height": 295
    },
    "colab_type": "code",
    "id": "1-t_UQp2QLs8",
    "outputId": "f39b8155-4272-484b-d76f-73ae58c8d13d"
   },
   "outputs": [
    {
     "data": {
      "image/png": "[encoded data removed]",
      "text/plain": [
       "<Figure size 432x288 with 1 Axes>"
      ]
     },
     "metadata": {
      "needs_background": "light",
      "tags": []
     },
     "output_type": "display_data"
    }
   ],
   "source": [
    "#plotting from minimum to maximum value\n",
    "\n",
    "x_values = np.arange(x.min()[0],x.max()[0],0.01)\n",
    "\n",
    "y_values = x_values * clf.coef_[0] + clf.intercept_\n",
    "\n",
    "plt.plot(x_values,log_to_prob(y_values))\n",
    "plt.ylabel('Probabilities')\n",
    "plt.xlabel('Total day minutes')\n",
    "plt.title('Logistic Regression line in probabilities')\n",
    "plt.grid()"
   ]
  },
  {
   "cell_type": "code",
   "execution_count": 0,
   "metadata": {
    "colab": {
     "base_uri": "https://localhost:8080/",
     "height": 225
    },
    "colab_type": "code",
    "id": "CynYudAlM58v",
    "outputId": "e1cbece6-8022-41c1-85bc-26f61b82231b"
   },
   "outputs": [
    {
     "data": {
      "text/plain": [
       "9838     0\n",
       "7689     0\n",
       "6557     0\n",
       "6872     0\n",
       "820      1\n",
       "        ..\n",
       "5191     0\n",
       "13418    0\n",
       "5390     0\n",
       "860      1\n",
       "7270     0\n",
       "Name: churn, Length: 11999, dtype: int64"
      ]
     },
     "execution_count": 31,
     "metadata": {
      "tags": []
     },
     "output_type": "execute_result"
    }
   ],
   "source": [
    "y_train"
   ]
  },
  {
   "cell_type": "code",
   "execution_count": 0,
   "metadata": {
    "colab": {
     "base_uri": "https://localhost:8080/",
     "height": 139
    },
    "colab_type": "code",
    "id": "cYCjQsjlFJjX",
    "outputId": "18dbae99-4e2a-4dc1-a582-076069c26ec4"
   },
   "outputs": [
    {
     "name": "stdout",
     "output_type": "stream",
     "text": [
      "Log-Loss\n",
      "Train: 8.247\n",
      "Validation: 8.128\n",
      "-------------\n",
      "Recall Score\n",
      "Train: 0.0\n",
      "Validation: 0.0\n"
     ]
    }
   ],
   "source": [
    "# log loss (true y label, with prediction probabilities)\n",
    "print('Log-Loss')\n",
    "print(f'Train: {log_loss(  y_train , clf.predict(x_train) ).round(3)}')\n",
    "print(f'Validation: {log_loss( y_val , clf.predict(x_val) ).round(3)}')\n",
    "print('-------------')\n",
    "#Recall Score\n",
    "print('Recall Score')\n",
    "print(f'Train: {recall_score( y_train, clf.predict(x_train) ).round(3)}')\n",
    "print(f'Validation: {recall_score( y_val, clf.predict(x_val) ).round(3)}')"
   ]
  },
  {
   "cell_type": "markdown",
   "metadata": {
    "colab_type": "text",
    "id": "-II2l1DDKSO6"
   },
   "source": [
    "##Grid Search"
   ]
  },
  {
   "cell_type": "code",
   "execution_count": 0,
   "metadata": {
    "colab": {},
    "colab_type": "code",
    "id": "L4327Z_wPzY0"
   },
   "outputs": [],
   "source": [
    "from sklearn.model_selection import GridSearchCV"
   ]
  },
  {
   "cell_type": "markdown",
   "metadata": {
    "colab_type": "text",
    "id": "HfiE6kg713SE"
   },
   "source": [
    "We simply try every combinations of different model parameter and see what combination gives us the best recall score."
   ]
  },
  {
   "cell_type": "code",
   "execution_count": 0,
   "metadata": {
    "colab": {},
    "colab_type": "code",
    "id": "j3CrzS4gQEnm"
   },
   "outputs": [],
   "source": [
    "params_none = {'clf__penalty': ['none'],\n",
    "               'clf__solver': ['liblinear','lbfgs','newton-cg','sag','saga'],\n",
    "               'clf__class_weight': ['balanced','unbalanced']}\n",
    "\n",
    "params_l1 = {'clf__penalty': ['l1'],\n",
    "             'clf__solver': ['liblinear','lbfgs','newton-cg','sag','saga'],\n",
    "             'clf__C': np.logspace(-6,1,8),\n",
    "             'clf__class_weight': ['balanced','unbalanced']}           \n",
    "\n",
    "params_l2 = {'clf__penalty': ['l2'],\n",
    "             'clf__solver': ['liblinear','lbfgs','newton-cg','sag','saga'],\n",
    "             'clf__C': np.logspace(-6,1,8),\n",
    "             'clf__class_weight': ['balanced','unbalanced']}\n",
    "\n",
    "params_en = {'clf__penalty': ['elasticnet'],\n",
    "             'clf__solver': ['liblinear','lbfgs','newton-cg','sag','saga'],\n",
    "             'clf__C': np.logspace(-6,1,8),\n",
    "             'clf__l1_ratio': np.arange(0,1,0.01),\n",
    "             'clf__class_weight': ['balanced','unbalanced']}"
   ]
  },
  {
   "cell_type": "code",
   "execution_count": 0,
   "metadata": {
    "colab": {
     "base_uri": "https://localhost:8080/",
     "height": 537
    },
    "colab_type": "code",
    "id": "VzKF6qYQKUFu",
    "outputId": "4123add5-60fb-4f00-edd0-79860b44dd98"
   },
   "outputs": [
    {
     "data": {
      "text/plain": [
       "GridSearchCV(cv=5, error_score=nan,\n",
       "             estimator=Pipeline(memory=None,\n",
       "                                steps=[('scaler',\n",
       "                                        StandardScaler(copy=True,\n",
       "                                                       with_mean=True,\n",
       "                                                       with_std=True)),\n",
       "                                       ('clf',\n",
       "                                        LogisticRegression(C=1.0,\n",
       "                                                           class_weight=None,\n",
       "                                                           dual=False,\n",
       "                                                           fit_intercept=True,\n",
       "                                                           intercept_scaling=1,\n",
       "                                                           l1_ratio=None,\n",
       "                                                           max_iter=100,\n",
       "                                                           multi_class='auto',\n",
       "                                                           n_jobs=None,\n",
       "                                                           penalty='l2',\n",
       "                                                           random_state=42,\n",
       "                                                           solver='lbfgs',\n",
       "                                                           tol=0.0001...\n",
       "       0.55, 0.56, 0.57, 0.58, 0.59, 0.6 , 0.61, 0.62, 0.63, 0.64, 0.65,\n",
       "       0.66, 0.67, 0.68, 0.69, 0.7 , 0.71, 0.72, 0.73, 0.74, 0.75, 0.76,\n",
       "       0.77, 0.78, 0.79, 0.8 , 0.81, 0.82, 0.83, 0.84, 0.85, 0.86, 0.87,\n",
       "       0.88, 0.89, 0.9 , 0.91, 0.92, 0.93, 0.94, 0.95, 0.96, 0.97, 0.98,\n",
       "       0.99]),\n",
       "                          'clf__penalty': ['elasticnet'],\n",
       "                          'clf__solver': ['liblinear', 'lbfgs', 'newton-cg',\n",
       "                                          'sag', 'saga']}],\n",
       "             pre_dispatch='2*n_jobs', refit=True, return_train_score=False,\n",
       "             scoring='recall', verbose=0)"
      ]
     },
     "execution_count": 110,
     "metadata": {
      "tags": []
     },
     "output_type": "execute_result"
    }
   ],
   "source": [
    "x = data.drop(['id','churn'],axis=1)\n",
    "y = data['churn']\n",
    "\n",
    "#Train validation data split\n",
    "x_train, x_val, y_train, y_val = train_test_split(x,y,test_size = 0.2,random_state = 42)\n",
    "\n",
    "# Set the parameters by cross-validation\n",
    "super_params = [params_none,params_l1,params_l2,params_en]\n",
    "\n",
    "#Make pipe, but change solver\n",
    "pipe = Pipeline(steps = [('scaler', StandardScaler()), \n",
    "                        ('clf', LogisticRegression(random_state=42))])\n",
    "\n",
    "clf = GridSearchCV(pipe, param_grid = super_params, scoring = 'recall',\n",
    "                   cv=5, n_jobs = -1)\n",
    "\n",
    "clf.fit(x_train, y_train)"
   ]
  },
  {
   "cell_type": "code",
   "execution_count": 0,
   "metadata": {
    "colab": {
     "base_uri": "https://localhost:8080/",
     "height": 87
    },
    "colab_type": "code",
    "id": "xatyoQtx6u7h",
    "outputId": "9e8c2ad3-45a1-44b9-b53f-3e57da5aab86"
   },
   "outputs": [
    {
     "data": {
      "text/plain": [
       "{'clf__C': 1e-06,\n",
       " 'clf__class_weight': 'balanced',\n",
       " 'clf__penalty': 'l2',\n",
       " 'clf__solver': 'liblinear'}"
      ]
     },
     "execution_count": 111,
     "metadata": {
      "tags": []
     },
     "output_type": "execute_result"
    }
   ],
   "source": [
    "clf.best_params_"
   ]
  },
  {
   "cell_type": "markdown",
   "metadata": {
    "colab_type": "text",
    "id": "eKtvclaB1xbs"
   },
   "source": [
    "These are the model parameters that give the highest recall score."
   ]
  },
  {
   "cell_type": "code",
   "execution_count": 0,
   "metadata": {
    "colab": {
     "base_uri": "https://localhost:8080/",
     "height": 685
    },
    "colab_type": "code",
    "id": "o_lZcZwupbO4",
    "outputId": "88326766-b747-4084-9d2e-55ea48f54114"
   },
   "outputs": [
    {
     "data": {
      "text/html": [
       "<div>\n",
       "<style scoped>\n",
       "    .dataframe tbody tr th:only-of-type {\n",
       "        vertical-align: middle;\n",
       "    }\n",
       "\n",
       "    .dataframe tbody tr th {\n",
       "        vertical-align: top;\n",
       "    }\n",
       "\n",
       "    .dataframe thead th {\n",
       "        text-align: right;\n",
       "    }\n",
       "</style>\n",
       "<table border=\"1\" class=\"dataframe\">\n",
       "  <thead>\n",
       "    <tr style=\"text-align: right;\">\n",
       "      <th></th>\n",
       "      <th>90</th>\n",
       "      <th>91</th>\n",
       "      <th>100</th>\n",
       "      <th>110</th>\n",
       "      <th>7669</th>\n",
       "      <th>7309</th>\n",
       "      <th>7314</th>\n",
       "      <th>7319</th>\n",
       "      <th>7324</th>\n",
       "      <th>7329</th>\n",
       "      <th>7334</th>\n",
       "      <th>7339</th>\n",
       "      <th>7344</th>\n",
       "      <th>7349</th>\n",
       "      <th>1</th>\n",
       "      <th>7609</th>\n",
       "      <th>7664</th>\n",
       "      <th>7659</th>\n",
       "      <th>7654</th>\n",
       "      <th>7649</th>\n",
       "      <th>7644</th>\n",
       "      <th>7639</th>\n",
       "      <th>7634</th>\n",
       "      <th>7629</th>\n",
       "      <th>7624</th>\n",
       "      <th>7619</th>\n",
       "      <th>7304</th>\n",
       "      <th>7299</th>\n",
       "      <th>7294</th>\n",
       "      <th>7289</th>\n",
       "      <th>7174</th>\n",
       "      <th>7179</th>\n",
       "      <th>7184</th>\n",
       "      <th>7189</th>\n",
       "      <th>7194</th>\n",
       "      <th>7199</th>\n",
       "      <th>7204</th>\n",
       "      <th>7209</th>\n",
       "      <th>7214</th>\n",
       "      <th>7219</th>\n",
       "      <th>...</th>\n",
       "      <th>8120</th>\n",
       "      <th>8121</th>\n",
       "      <th>8122</th>\n",
       "      <th>8123</th>\n",
       "      <th>8125</th>\n",
       "      <th>8126</th>\n",
       "      <th>8127</th>\n",
       "      <th>8128</th>\n",
       "      <th>8130</th>\n",
       "      <th>8131</th>\n",
       "      <th>8132</th>\n",
       "      <th>8133</th>\n",
       "      <th>8135</th>\n",
       "      <th>8136</th>\n",
       "      <th>8137</th>\n",
       "      <th>8138</th>\n",
       "      <th>8140</th>\n",
       "      <th>8141</th>\n",
       "      <th>8142</th>\n",
       "      <th>8143</th>\n",
       "      <th>8145</th>\n",
       "      <th>8146</th>\n",
       "      <th>8147</th>\n",
       "      <th>8148</th>\n",
       "      <th>8150</th>\n",
       "      <th>8151</th>\n",
       "      <th>8152</th>\n",
       "      <th>8153</th>\n",
       "      <th>8155</th>\n",
       "      <th>8156</th>\n",
       "      <th>8157</th>\n",
       "      <th>8158</th>\n",
       "      <th>8160</th>\n",
       "      <th>8161</th>\n",
       "      <th>8162</th>\n",
       "      <th>8163</th>\n",
       "      <th>8165</th>\n",
       "      <th>8166</th>\n",
       "      <th>8167</th>\n",
       "      <th>8168</th>\n",
       "    </tr>\n",
       "  </thead>\n",
       "  <tbody>\n",
       "    <tr>\n",
       "      <th>mean_fit_time</th>\n",
       "      <td>0.0179735</td>\n",
       "      <td>0.0232378</td>\n",
       "      <td>0.0222447</td>\n",
       "      <td>0.0284808</td>\n",
       "      <td>0.0775555</td>\n",
       "      <td>0.0811333</td>\n",
       "      <td>0.0783953</td>\n",
       "      <td>0.0744114</td>\n",
       "      <td>0.0771128</td>\n",
       "      <td>0.0786051</td>\n",
       "      <td>0.0794761</td>\n",
       "      <td>0.0857143</td>\n",
       "      <td>0.0797426</td>\n",
       "      <td>0.0782685</td>\n",
       "      <td>0.0371087</td>\n",
       "      <td>0.0806954</td>\n",
       "      <td>0.0752542</td>\n",
       "      <td>0.0804397</td>\n",
       "      <td>0.0793311</td>\n",
       "      <td>0.0766763</td>\n",
       "      <td>0.0750774</td>\n",
       "      <td>0.076106</td>\n",
       "      <td>0.0787333</td>\n",
       "      <td>0.0789876</td>\n",
       "      <td>0.0788206</td>\n",
       "      <td>0.0777033</td>\n",
       "      <td>0.0833507</td>\n",
       "      <td>0.0806891</td>\n",
       "      <td>0.0747823</td>\n",
       "      <td>0.0796997</td>\n",
       "      <td>0.0655621</td>\n",
       "      <td>0.0782772</td>\n",
       "      <td>0.0758526</td>\n",
       "      <td>0.0782273</td>\n",
       "      <td>0.0786245</td>\n",
       "      <td>0.0732021</td>\n",
       "      <td>0.0830668</td>\n",
       "      <td>0.0750763</td>\n",
       "      <td>0.0788805</td>\n",
       "      <td>0.0805319</td>\n",
       "      <td>...</td>\n",
       "      <td>0.00834451</td>\n",
       "      <td>0.0062923</td>\n",
       "      <td>0.00720119</td>\n",
       "      <td>0.0105812</td>\n",
       "      <td>0.00677629</td>\n",
       "      <td>0.00793076</td>\n",
       "      <td>0.0065187</td>\n",
       "      <td>0.00783195</td>\n",
       "      <td>0.0152606</td>\n",
       "      <td>0.00870757</td>\n",
       "      <td>0.00634112</td>\n",
       "      <td>0.00864472</td>\n",
       "      <td>0.00662575</td>\n",
       "      <td>0.0141435</td>\n",
       "      <td>0.00637631</td>\n",
       "      <td>0.00672464</td>\n",
       "      <td>0.00749836</td>\n",
       "      <td>0.00637417</td>\n",
       "      <td>0.00866766</td>\n",
       "      <td>0.00660577</td>\n",
       "      <td>0.0074347</td>\n",
       "      <td>0.00832295</td>\n",
       "      <td>0.00697141</td>\n",
       "      <td>0.00713654</td>\n",
       "      <td>0.00690794</td>\n",
       "      <td>0.00716991</td>\n",
       "      <td>0.00821967</td>\n",
       "      <td>0.00704031</td>\n",
       "      <td>0.0127264</td>\n",
       "      <td>0.00675044</td>\n",
       "      <td>0.00768471</td>\n",
       "      <td>0.00759811</td>\n",
       "      <td>0.00689883</td>\n",
       "      <td>0.00634823</td>\n",
       "      <td>0.0069087</td>\n",
       "      <td>0.00682688</td>\n",
       "      <td>0.00774784</td>\n",
       "      <td>0.0084023</td>\n",
       "      <td>0.00968838</td>\n",
       "      <td>0.0108295</td>\n",
       "    </tr>\n",
       "    <tr>\n",
       "      <th>std_fit_time</th>\n",
       "      <td>0.000595927</td>\n",
       "      <td>0.00486353</td>\n",
       "      <td>0.000401482</td>\n",
       "      <td>0.0087518</td>\n",
       "      <td>0.00819481</td>\n",
       "      <td>0.0107935</td>\n",
       "      <td>0.0100805</td>\n",
       "      <td>0.00388038</td>\n",
       "      <td>0.00806571</td>\n",
       "      <td>0.00929711</td>\n",
       "      <td>0.0125457</td>\n",
       "      <td>0.0280367</td>\n",
       "      <td>0.0101219</td>\n",
       "      <td>0.011198</td>\n",
       "      <td>0.00257108</td>\n",
       "      <td>0.00854501</td>\n",
       "      <td>0.00266513</td>\n",
       "      <td>0.0108562</td>\n",
       "      <td>0.00932778</td>\n",
       "      <td>0.00754723</td>\n",
       "      <td>0.00620911</td>\n",
       "      <td>0.00662118</td>\n",
       "      <td>0.0100456</td>\n",
       "      <td>0.0095804</td>\n",
       "      <td>0.0110345</td>\n",
       "      <td>0.00493756</td>\n",
       "      <td>0.0182069</td>\n",
       "      <td>0.00497917</td>\n",
       "      <td>0.00362982</td>\n",
       "      <td>0.0118072</td>\n",
       "      <td>0.00668104</td>\n",
       "      <td>0.0130925</td>\n",
       "      <td>0.00344303</td>\n",
       "      <td>0.0115105</td>\n",
       "      <td>0.0121729</td>\n",
       "      <td>0.0034452</td>\n",
       "      <td>0.0193978</td>\n",
       "      <td>0.00689321</td>\n",
       "      <td>0.010627</td>\n",
       "      <td>0.0112552</td>\n",
       "      <td>...</td>\n",
       "      <td>0.0024308</td>\n",
       "      <td>2.66455e-05</td>\n",
       "      <td>0.000420648</td>\n",
       "      <td>0.00312915</td>\n",
       "      <td>0.000391891</td>\n",
       "      <td>0.0031805</td>\n",
       "      <td>0.000238416</td>\n",
       "      <td>0.00140131</td>\n",
       "      <td>0.010196</td>\n",
       "      <td>0.00285011</td>\n",
       "      <td>2.63935e-05</td>\n",
       "      <td>0.00231807</td>\n",
       "      <td>0.000351487</td>\n",
       "      <td>0.00875838</td>\n",
       "      <td>6.57946e-05</td>\n",
       "      <td>0.000447795</td>\n",
       "      <td>0.00156039</td>\n",
       "      <td>8.1885e-05</td>\n",
       "      <td>0.00354826</td>\n",
       "      <td>0.000461538</td>\n",
       "      <td>0.000244061</td>\n",
       "      <td>0.00241738</td>\n",
       "      <td>0.000401243</td>\n",
       "      <td>0.000485342</td>\n",
       "      <td>0.000220866</td>\n",
       "      <td>0.000410326</td>\n",
       "      <td>0.0029769</td>\n",
       "      <td>0.000333377</td>\n",
       "      <td>0.00642534</td>\n",
       "      <td>4.91611e-05</td>\n",
       "      <td>0.000445042</td>\n",
       "      <td>0.000697155</td>\n",
       "      <td>0.000379233</td>\n",
       "      <td>4.92346e-05</td>\n",
       "      <td>0.000576521</td>\n",
       "      <td>0.000507851</td>\n",
       "      <td>0.000273366</td>\n",
       "      <td>0.000919079</td>\n",
       "      <td>0.00447172</td>\n",
       "      <td>0.00614706</td>\n",
       "    </tr>\n",
       "    <tr>\n",
       "      <th>mean_score_time</th>\n",
       "      <td>0.00422058</td>\n",
       "      <td>0.00701056</td>\n",
       "      <td>0.00516791</td>\n",
       "      <td>0.00461974</td>\n",
       "      <td>0.00465055</td>\n",
       "      <td>0.00487723</td>\n",
       "      <td>0.00478458</td>\n",
       "      <td>0.00491638</td>\n",
       "      <td>0.00442514</td>\n",
       "      <td>0.00462537</td>\n",
       "      <td>0.00519743</td>\n",
       "      <td>0.00467987</td>\n",
       "      <td>0.00520806</td>\n",
       "      <td>0.00454736</td>\n",
       "      <td>0.0052927</td>\n",
       "      <td>0.00464125</td>\n",
       "      <td>0.00570626</td>\n",
       "      <td>0.00493946</td>\n",
       "      <td>0.00468698</td>\n",
       "      <td>0.00449586</td>\n",
       "      <td>0.00471582</td>\n",
       "      <td>0.00468917</td>\n",
       "      <td>0.00507383</td>\n",
       "      <td>0.0050045</td>\n",
       "      <td>0.00459962</td>\n",
       "      <td>0.00505056</td>\n",
       "      <td>0.0044837</td>\n",
       "      <td>0.00457597</td>\n",
       "      <td>0.00501819</td>\n",
       "      <td>0.0048234</td>\n",
       "      <td>0.00544448</td>\n",
       "      <td>0.0057714</td>\n",
       "      <td>0.00516386</td>\n",
       "      <td>0.00447111</td>\n",
       "      <td>0.00462627</td>\n",
       "      <td>0.00449581</td>\n",
       "      <td>0.00470839</td>\n",
       "      <td>0.00453091</td>\n",
       "      <td>0.00459719</td>\n",
       "      <td>0.00487967</td>\n",
       "      <td>...</td>\n",
       "      <td>0</td>\n",
       "      <td>0</td>\n",
       "      <td>0</td>\n",
       "      <td>0</td>\n",
       "      <td>0</td>\n",
       "      <td>0</td>\n",
       "      <td>0</td>\n",
       "      <td>0</td>\n",
       "      <td>0</td>\n",
       "      <td>0</td>\n",
       "      <td>0</td>\n",
       "      <td>0</td>\n",
       "      <td>0</td>\n",
       "      <td>0</td>\n",
       "      <td>0</td>\n",
       "      <td>0</td>\n",
       "      <td>0</td>\n",
       "      <td>0</td>\n",
       "      <td>0</td>\n",
       "      <td>0</td>\n",
       "      <td>0</td>\n",
       "      <td>0</td>\n",
       "      <td>0</td>\n",
       "      <td>0</td>\n",
       "      <td>0</td>\n",
       "      <td>0</td>\n",
       "      <td>0</td>\n",
       "      <td>0</td>\n",
       "      <td>0</td>\n",
       "      <td>0</td>\n",
       "      <td>0</td>\n",
       "      <td>0</td>\n",
       "      <td>0</td>\n",
       "      <td>0</td>\n",
       "      <td>0</td>\n",
       "      <td>0</td>\n",
       "      <td>0</td>\n",
       "      <td>0</td>\n",
       "      <td>0</td>\n",
       "      <td>0</td>\n",
       "    </tr>\n",
       "    <tr>\n",
       "      <th>std_score_time</th>\n",
       "      <td>0.000301179</td>\n",
       "      <td>0.00546395</td>\n",
       "      <td>0.000231347</td>\n",
       "      <td>0.000336509</td>\n",
       "      <td>0.000376768</td>\n",
       "      <td>0.000427346</td>\n",
       "      <td>0.000234455</td>\n",
       "      <td>0.000230727</td>\n",
       "      <td>0.000334095</td>\n",
       "      <td>0.000420046</td>\n",
       "      <td>0.000321784</td>\n",
       "      <td>0.000172816</td>\n",
       "      <td>0.00023586</td>\n",
       "      <td>0.000154848</td>\n",
       "      <td>0.000295552</td>\n",
       "      <td>0.000289112</td>\n",
       "      <td>0.00204294</td>\n",
       "      <td>0.000299472</td>\n",
       "      <td>0.000321066</td>\n",
       "      <td>0.000390973</td>\n",
       "      <td>0.0002251</td>\n",
       "      <td>0.000390628</td>\n",
       "      <td>0.00140895</td>\n",
       "      <td>0.000249433</td>\n",
       "      <td>0.000279782</td>\n",
       "      <td>0.000163843</td>\n",
       "      <td>0.000330016</td>\n",
       "      <td>0.000338357</td>\n",
       "      <td>0.00086121</td>\n",
       "      <td>0.000220538</td>\n",
       "      <td>0.00171655</td>\n",
       "      <td>0.00249539</td>\n",
       "      <td>0.000302882</td>\n",
       "      <td>0.000297019</td>\n",
       "      <td>0.000398881</td>\n",
       "      <td>0.000291336</td>\n",
       "      <td>0.000402655</td>\n",
       "      <td>0.000285886</td>\n",
       "      <td>0.000303048</td>\n",
       "      <td>0.000485482</td>\n",
       "      <td>...</td>\n",
       "      <td>0</td>\n",
       "      <td>0</td>\n",
       "      <td>0</td>\n",
       "      <td>0</td>\n",
       "      <td>0</td>\n",
       "      <td>0</td>\n",
       "      <td>0</td>\n",
       "      <td>0</td>\n",
       "      <td>0</td>\n",
       "      <td>0</td>\n",
       "      <td>0</td>\n",
       "      <td>0</td>\n",
       "      <td>0</td>\n",
       "      <td>0</td>\n",
       "      <td>0</td>\n",
       "      <td>0</td>\n",
       "      <td>0</td>\n",
       "      <td>0</td>\n",
       "      <td>0</td>\n",
       "      <td>0</td>\n",
       "      <td>0</td>\n",
       "      <td>0</td>\n",
       "      <td>0</td>\n",
       "      <td>0</td>\n",
       "      <td>0</td>\n",
       "      <td>0</td>\n",
       "      <td>0</td>\n",
       "      <td>0</td>\n",
       "      <td>0</td>\n",
       "      <td>0</td>\n",
       "      <td>0</td>\n",
       "      <td>0</td>\n",
       "      <td>0</td>\n",
       "      <td>0</td>\n",
       "      <td>0</td>\n",
       "      <td>0</td>\n",
       "      <td>0</td>\n",
       "      <td>0</td>\n",
       "      <td>0</td>\n",
       "      <td>0</td>\n",
       "    </tr>\n",
       "    <tr>\n",
       "      <th>param_clf__class_weight</th>\n",
       "      <td>balanced</td>\n",
       "      <td>balanced</td>\n",
       "      <td>balanced</td>\n",
       "      <td>balanced</td>\n",
       "      <td>balanced</td>\n",
       "      <td>balanced</td>\n",
       "      <td>balanced</td>\n",
       "      <td>balanced</td>\n",
       "      <td>balanced</td>\n",
       "      <td>balanced</td>\n",
       "      <td>balanced</td>\n",
       "      <td>balanced</td>\n",
       "      <td>balanced</td>\n",
       "      <td>balanced</td>\n",
       "      <td>balanced</td>\n",
       "      <td>balanced</td>\n",
       "      <td>balanced</td>\n",
       "      <td>balanced</td>\n",
       "      <td>balanced</td>\n",
       "      <td>balanced</td>\n",
       "      <td>balanced</td>\n",
       "      <td>balanced</td>\n",
       "      <td>balanced</td>\n",
       "      <td>balanced</td>\n",
       "      <td>balanced</td>\n",
       "      <td>balanced</td>\n",
       "      <td>balanced</td>\n",
       "      <td>balanced</td>\n",
       "      <td>balanced</td>\n",
       "      <td>balanced</td>\n",
       "      <td>balanced</td>\n",
       "      <td>balanced</td>\n",
       "      <td>balanced</td>\n",
       "      <td>balanced</td>\n",
       "      <td>balanced</td>\n",
       "      <td>balanced</td>\n",
       "      <td>balanced</td>\n",
       "      <td>balanced</td>\n",
       "      <td>balanced</td>\n",
       "      <td>balanced</td>\n",
       "      <td>...</td>\n",
       "      <td>unbalanced</td>\n",
       "      <td>unbalanced</td>\n",
       "      <td>unbalanced</td>\n",
       "      <td>unbalanced</td>\n",
       "      <td>unbalanced</td>\n",
       "      <td>unbalanced</td>\n",
       "      <td>unbalanced</td>\n",
       "      <td>unbalanced</td>\n",
       "      <td>unbalanced</td>\n",
       "      <td>unbalanced</td>\n",
       "      <td>unbalanced</td>\n",
       "      <td>unbalanced</td>\n",
       "      <td>unbalanced</td>\n",
       "      <td>unbalanced</td>\n",
       "      <td>unbalanced</td>\n",
       "      <td>unbalanced</td>\n",
       "      <td>unbalanced</td>\n",
       "      <td>unbalanced</td>\n",
       "      <td>unbalanced</td>\n",
       "      <td>unbalanced</td>\n",
       "      <td>unbalanced</td>\n",
       "      <td>unbalanced</td>\n",
       "      <td>unbalanced</td>\n",
       "      <td>unbalanced</td>\n",
       "      <td>unbalanced</td>\n",
       "      <td>unbalanced</td>\n",
       "      <td>unbalanced</td>\n",
       "      <td>unbalanced</td>\n",
       "      <td>unbalanced</td>\n",
       "      <td>unbalanced</td>\n",
       "      <td>unbalanced</td>\n",
       "      <td>unbalanced</td>\n",
       "      <td>unbalanced</td>\n",
       "      <td>unbalanced</td>\n",
       "      <td>unbalanced</td>\n",
       "      <td>unbalanced</td>\n",
       "      <td>unbalanced</td>\n",
       "      <td>unbalanced</td>\n",
       "      <td>unbalanced</td>\n",
       "      <td>unbalanced</td>\n",
       "    </tr>\n",
       "    <tr>\n",
       "      <th>param_clf__penalty</th>\n",
       "      <td>l2</td>\n",
       "      <td>l2</td>\n",
       "      <td>l2</td>\n",
       "      <td>l2</td>\n",
       "      <td>elasticnet</td>\n",
       "      <td>elasticnet</td>\n",
       "      <td>elasticnet</td>\n",
       "      <td>elasticnet</td>\n",
       "      <td>elasticnet</td>\n",
       "      <td>elasticnet</td>\n",
       "      <td>elasticnet</td>\n",
       "      <td>elasticnet</td>\n",
       "      <td>elasticnet</td>\n",
       "      <td>elasticnet</td>\n",
       "      <td>none</td>\n",
       "      <td>elasticnet</td>\n",
       "      <td>elasticnet</td>\n",
       "      <td>elasticnet</td>\n",
       "      <td>elasticnet</td>\n",
       "      <td>elasticnet</td>\n",
       "      <td>elasticnet</td>\n",
       "      <td>elasticnet</td>\n",
       "      <td>elasticnet</td>\n",
       "      <td>elasticnet</td>\n",
       "      <td>elasticnet</td>\n",
       "      <td>elasticnet</td>\n",
       "      <td>elasticnet</td>\n",
       "      <td>elasticnet</td>\n",
       "      <td>elasticnet</td>\n",
       "      <td>elasticnet</td>\n",
       "      <td>elasticnet</td>\n",
       "      <td>elasticnet</td>\n",
       "      <td>elasticnet</td>\n",
       "      <td>elasticnet</td>\n",
       "      <td>elasticnet</td>\n",
       "      <td>elasticnet</td>\n",
       "      <td>elasticnet</td>\n",
       "      <td>elasticnet</td>\n",
       "      <td>elasticnet</td>\n",
       "      <td>elasticnet</td>\n",
       "      <td>...</td>\n",
       "      <td>elasticnet</td>\n",
       "      <td>elasticnet</td>\n",
       "      <td>elasticnet</td>\n",
       "      <td>elasticnet</td>\n",
       "      <td>elasticnet</td>\n",
       "      <td>elasticnet</td>\n",
       "      <td>elasticnet</td>\n",
       "      <td>elasticnet</td>\n",
       "      <td>elasticnet</td>\n",
       "      <td>elasticnet</td>\n",
       "      <td>elasticnet</td>\n",
       "      <td>elasticnet</td>\n",
       "      <td>elasticnet</td>\n",
       "      <td>elasticnet</td>\n",
       "      <td>elasticnet</td>\n",
       "      <td>elasticnet</td>\n",
       "      <td>elasticnet</td>\n",
       "      <td>elasticnet</td>\n",
       "      <td>elasticnet</td>\n",
       "      <td>elasticnet</td>\n",
       "      <td>elasticnet</td>\n",
       "      <td>elasticnet</td>\n",
       "      <td>elasticnet</td>\n",
       "      <td>elasticnet</td>\n",
       "      <td>elasticnet</td>\n",
       "      <td>elasticnet</td>\n",
       "      <td>elasticnet</td>\n",
       "      <td>elasticnet</td>\n",
       "      <td>elasticnet</td>\n",
       "      <td>elasticnet</td>\n",
       "      <td>elasticnet</td>\n",
       "      <td>elasticnet</td>\n",
       "      <td>elasticnet</td>\n",
       "      <td>elasticnet</td>\n",
       "      <td>elasticnet</td>\n",
       "      <td>elasticnet</td>\n",
       "      <td>elasticnet</td>\n",
       "      <td>elasticnet</td>\n",
       "      <td>elasticnet</td>\n",
       "      <td>elasticnet</td>\n",
       "    </tr>\n",
       "    <tr>\n",
       "      <th>param_clf__solver</th>\n",
       "      <td>liblinear</td>\n",
       "      <td>lbfgs</td>\n",
       "      <td>liblinear</td>\n",
       "      <td>liblinear</td>\n",
       "      <td>saga</td>\n",
       "      <td>saga</td>\n",
       "      <td>saga</td>\n",
       "      <td>saga</td>\n",
       "      <td>saga</td>\n",
       "      <td>saga</td>\n",
       "      <td>saga</td>\n",
       "      <td>saga</td>\n",
       "      <td>saga</td>\n",
       "      <td>saga</td>\n",
       "      <td>lbfgs</td>\n",
       "      <td>saga</td>\n",
       "      <td>saga</td>\n",
       "      <td>saga</td>\n",
       "      <td>saga</td>\n",
       "      <td>saga</td>\n",
       "      <td>saga</td>\n",
       "      <td>saga</td>\n",
       "      <td>saga</td>\n",
       "      <td>saga</td>\n",
       "      <td>saga</td>\n",
       "      <td>saga</td>\n",
       "      <td>saga</td>\n",
       "      <td>saga</td>\n",
       "      <td>saga</td>\n",
       "      <td>saga</td>\n",
       "      <td>saga</td>\n",
       "      <td>saga</td>\n",
       "      <td>saga</td>\n",
       "      <td>saga</td>\n",
       "      <td>saga</td>\n",
       "      <td>saga</td>\n",
       "      <td>saga</td>\n",
       "      <td>saga</td>\n",
       "      <td>saga</td>\n",
       "      <td>saga</td>\n",
       "      <td>...</td>\n",
       "      <td>liblinear</td>\n",
       "      <td>lbfgs</td>\n",
       "      <td>newton-cg</td>\n",
       "      <td>sag</td>\n",
       "      <td>liblinear</td>\n",
       "      <td>lbfgs</td>\n",
       "      <td>newton-cg</td>\n",
       "      <td>sag</td>\n",
       "      <td>liblinear</td>\n",
       "      <td>lbfgs</td>\n",
       "      <td>newton-cg</td>\n",
       "      <td>sag</td>\n",
       "      <td>liblinear</td>\n",
       "      <td>lbfgs</td>\n",
       "      <td>newton-cg</td>\n",
       "      <td>sag</td>\n",
       "      <td>liblinear</td>\n",
       "      <td>lbfgs</td>\n",
       "      <td>newton-cg</td>\n",
       "      <td>sag</td>\n",
       "      <td>liblinear</td>\n",
       "      <td>lbfgs</td>\n",
       "      <td>newton-cg</td>\n",
       "      <td>sag</td>\n",
       "      <td>liblinear</td>\n",
       "      <td>lbfgs</td>\n",
       "      <td>newton-cg</td>\n",
       "      <td>sag</td>\n",
       "      <td>liblinear</td>\n",
       "      <td>lbfgs</td>\n",
       "      <td>newton-cg</td>\n",
       "      <td>sag</td>\n",
       "      <td>liblinear</td>\n",
       "      <td>lbfgs</td>\n",
       "      <td>newton-cg</td>\n",
       "      <td>sag</td>\n",
       "      <td>liblinear</td>\n",
       "      <td>lbfgs</td>\n",
       "      <td>newton-cg</td>\n",
       "      <td>sag</td>\n",
       "    </tr>\n",
       "    <tr>\n",
       "      <th>param_clf__C</th>\n",
       "      <td>1e-06</td>\n",
       "      <td>1e-06</td>\n",
       "      <td>1e-05</td>\n",
       "      <td>0.0001</td>\n",
       "      <td>10</td>\n",
       "      <td>10</td>\n",
       "      <td>10</td>\n",
       "      <td>10</td>\n",
       "      <td>10</td>\n",
       "      <td>10</td>\n",
       "      <td>10</td>\n",
       "      <td>10</td>\n",
       "      <td>10</td>\n",
       "      <td>10</td>\n",
       "      <td>NaN</td>\n",
       "      <td>10</td>\n",
       "      <td>10</td>\n",
       "      <td>10</td>\n",
       "      <td>10</td>\n",
       "      <td>10</td>\n",
       "      <td>10</td>\n",
       "      <td>10</td>\n",
       "      <td>10</td>\n",
       "      <td>10</td>\n",
       "      <td>10</td>\n",
       "      <td>10</td>\n",
       "      <td>10</td>\n",
       "      <td>10</td>\n",
       "      <td>10</td>\n",
       "      <td>10</td>\n",
       "      <td>10</td>\n",
       "      <td>10</td>\n",
       "      <td>10</td>\n",
       "      <td>10</td>\n",
       "      <td>10</td>\n",
       "      <td>10</td>\n",
       "      <td>10</td>\n",
       "      <td>10</td>\n",
       "      <td>10</td>\n",
       "      <td>10</td>\n",
       "      <td>...</td>\n",
       "      <td>10</td>\n",
       "      <td>10</td>\n",
       "      <td>10</td>\n",
       "      <td>10</td>\n",
       "      <td>10</td>\n",
       "      <td>10</td>\n",
       "      <td>10</td>\n",
       "      <td>10</td>\n",
       "      <td>10</td>\n",
       "      <td>10</td>\n",
       "      <td>10</td>\n",
       "      <td>10</td>\n",
       "      <td>10</td>\n",
       "      <td>10</td>\n",
       "      <td>10</td>\n",
       "      <td>10</td>\n",
       "      <td>10</td>\n",
       "      <td>10</td>\n",
       "      <td>10</td>\n",
       "      <td>10</td>\n",
       "      <td>10</td>\n",
       "      <td>10</td>\n",
       "      <td>10</td>\n",
       "      <td>10</td>\n",
       "      <td>10</td>\n",
       "      <td>10</td>\n",
       "      <td>10</td>\n",
       "      <td>10</td>\n",
       "      <td>10</td>\n",
       "      <td>10</td>\n",
       "      <td>10</td>\n",
       "      <td>10</td>\n",
       "      <td>10</td>\n",
       "      <td>10</td>\n",
       "      <td>10</td>\n",
       "      <td>10</td>\n",
       "      <td>10</td>\n",
       "      <td>10</td>\n",
       "      <td>10</td>\n",
       "      <td>10</td>\n",
       "    </tr>\n",
       "    <tr>\n",
       "      <th>param_clf__l1_ratio</th>\n",
       "      <td>NaN</td>\n",
       "      <td>NaN</td>\n",
       "      <td>NaN</td>\n",
       "      <td>NaN</td>\n",
       "      <td>0.99</td>\n",
       "      <td>0.27</td>\n",
       "      <td>0.28</td>\n",
       "      <td>0.29</td>\n",
       "      <td>0.3</td>\n",
       "      <td>0.31</td>\n",
       "      <td>0.32</td>\n",
       "      <td>0.33</td>\n",
       "      <td>0.34</td>\n",
       "      <td>0.35</td>\n",
       "      <td>NaN</td>\n",
       "      <td>0.87</td>\n",
       "      <td>0.98</td>\n",
       "      <td>0.97</td>\n",
       "      <td>0.96</td>\n",
       "      <td>0.95</td>\n",
       "      <td>0.94</td>\n",
       "      <td>0.93</td>\n",
       "      <td>0.92</td>\n",
       "      <td>0.91</td>\n",
       "      <td>0.9</td>\n",
       "      <td>0.89</td>\n",
       "      <td>0.26</td>\n",
       "      <td>0.25</td>\n",
       "      <td>0.24</td>\n",
       "      <td>0.23</td>\n",
       "      <td>0</td>\n",
       "      <td>0.01</td>\n",
       "      <td>0.02</td>\n",
       "      <td>0.03</td>\n",
       "      <td>0.04</td>\n",
       "      <td>0.05</td>\n",
       "      <td>0.06</td>\n",
       "      <td>0.07</td>\n",
       "      <td>0.08</td>\n",
       "      <td>0.09</td>\n",
       "      <td>...</td>\n",
       "      <td>0.9</td>\n",
       "      <td>0.9</td>\n",
       "      <td>0.9</td>\n",
       "      <td>0.9</td>\n",
       "      <td>0.91</td>\n",
       "      <td>0.91</td>\n",
       "      <td>0.91</td>\n",
       "      <td>0.91</td>\n",
       "      <td>0.92</td>\n",
       "      <td>0.92</td>\n",
       "      <td>0.92</td>\n",
       "      <td>0.92</td>\n",
       "      <td>0.93</td>\n",
       "      <td>0.93</td>\n",
       "      <td>0.93</td>\n",
       "      <td>0.93</td>\n",
       "      <td>0.94</td>\n",
       "      <td>0.94</td>\n",
       "      <td>0.94</td>\n",
       "      <td>0.94</td>\n",
       "      <td>0.95</td>\n",
       "      <td>0.95</td>\n",
       "      <td>0.95</td>\n",
       "      <td>0.95</td>\n",
       "      <td>0.96</td>\n",
       "      <td>0.96</td>\n",
       "      <td>0.96</td>\n",
       "      <td>0.96</td>\n",
       "      <td>0.97</td>\n",
       "      <td>0.97</td>\n",
       "      <td>0.97</td>\n",
       "      <td>0.97</td>\n",
       "      <td>0.98</td>\n",
       "      <td>0.98</td>\n",
       "      <td>0.98</td>\n",
       "      <td>0.98</td>\n",
       "      <td>0.99</td>\n",
       "      <td>0.99</td>\n",
       "      <td>0.99</td>\n",
       "      <td>0.99</td>\n",
       "    </tr>\n",
       "    <tr>\n",
       "      <th>params</th>\n",
       "      <td>{'clf__C': 1e-06, 'clf__class_weight': 'balanc...</td>\n",
       "      <td>{'clf__C': 1e-06, 'clf__class_weight': 'balanc...</td>\n",
       "      <td>{'clf__C': 1e-05, 'clf__class_weight': 'balanc...</td>\n",
       "      <td>{'clf__C': 0.0001, 'clf__class_weight': 'balan...</td>\n",
       "      <td>{'clf__C': 10.0, 'clf__class_weight': 'balance...</td>\n",
       "      <td>{'clf__C': 10.0, 'clf__class_weight': 'balance...</td>\n",
       "      <td>{'clf__C': 10.0, 'clf__class_weight': 'balance...</td>\n",
       "      <td>{'clf__C': 10.0, 'clf__class_weight': 'balance...</td>\n",
       "      <td>{'clf__C': 10.0, 'clf__class_weight': 'balance...</td>\n",
       "      <td>{'clf__C': 10.0, 'clf__class_weight': 'balance...</td>\n",
       "      <td>{'clf__C': 10.0, 'clf__class_weight': 'balance...</td>\n",
       "      <td>{'clf__C': 10.0, 'clf__class_weight': 'balance...</td>\n",
       "      <td>{'clf__C': 10.0, 'clf__class_weight': 'balance...</td>\n",
       "      <td>{'clf__C': 10.0, 'clf__class_weight': 'balance...</td>\n",
       "      <td>{'clf__class_weight': 'balanced', 'clf__penalt...</td>\n",
       "      <td>{'clf__C': 10.0, 'clf__class_weight': 'balance...</td>\n",
       "      <td>{'clf__C': 10.0, 'clf__class_weight': 'balance...</td>\n",
       "      <td>{'clf__C': 10.0, 'clf__class_weight': 'balance...</td>\n",
       "      <td>{'clf__C': 10.0, 'clf__class_weight': 'balance...</td>\n",
       "      <td>{'clf__C': 10.0, 'clf__class_weight': 'balance...</td>\n",
       "      <td>{'clf__C': 10.0, 'clf__class_weight': 'balance...</td>\n",
       "      <td>{'clf__C': 10.0, 'clf__class_weight': 'balance...</td>\n",
       "      <td>{'clf__C': 10.0, 'clf__class_weight': 'balance...</td>\n",
       "      <td>{'clf__C': 10.0, 'clf__class_weight': 'balance...</td>\n",
       "      <td>{'clf__C': 10.0, 'clf__class_weight': 'balance...</td>\n",
       "      <td>{'clf__C': 10.0, 'clf__class_weight': 'balance...</td>\n",
       "      <td>{'clf__C': 10.0, 'clf__class_weight': 'balance...</td>\n",
       "      <td>{'clf__C': 10.0, 'clf__class_weight': 'balance...</td>\n",
       "      <td>{'clf__C': 10.0, 'clf__class_weight': 'balance...</td>\n",
       "      <td>{'clf__C': 10.0, 'clf__class_weight': 'balance...</td>\n",
       "      <td>{'clf__C': 10.0, 'clf__class_weight': 'balance...</td>\n",
       "      <td>{'clf__C': 10.0, 'clf__class_weight': 'balance...</td>\n",
       "      <td>{'clf__C': 10.0, 'clf__class_weight': 'balance...</td>\n",
       "      <td>{'clf__C': 10.0, 'clf__class_weight': 'balance...</td>\n",
       "      <td>{'clf__C': 10.0, 'clf__class_weight': 'balance...</td>\n",
       "      <td>{'clf__C': 10.0, 'clf__class_weight': 'balance...</td>\n",
       "      <td>{'clf__C': 10.0, 'clf__class_weight': 'balance...</td>\n",
       "      <td>{'clf__C': 10.0, 'clf__class_weight': 'balance...</td>\n",
       "      <td>{'clf__C': 10.0, 'clf__class_weight': 'balance...</td>\n",
       "      <td>{'clf__C': 10.0, 'clf__class_weight': 'balance...</td>\n",
       "      <td>...</td>\n",
       "      <td>{'clf__C': 10.0, 'clf__class_weight': 'unbalan...</td>\n",
       "      <td>{'clf__C': 10.0, 'clf__class_weight': 'unbalan...</td>\n",
       "      <td>{'clf__C': 10.0, 'clf__class_weight': 'unbalan...</td>\n",
       "      <td>{'clf__C': 10.0, 'clf__class_weight': 'unbalan...</td>\n",
       "      <td>{'clf__C': 10.0, 'clf__class_weight': 'unbalan...</td>\n",
       "      <td>{'clf__C': 10.0, 'clf__class_weight': 'unbalan...</td>\n",
       "      <td>{'clf__C': 10.0, 'clf__class_weight': 'unbalan...</td>\n",
       "      <td>{'clf__C': 10.0, 'clf__class_weight': 'unbalan...</td>\n",
       "      <td>{'clf__C': 10.0, 'clf__class_weight': 'unbalan...</td>\n",
       "      <td>{'clf__C': 10.0, 'clf__class_weight': 'unbalan...</td>\n",
       "      <td>{'clf__C': 10.0, 'clf__class_weight': 'unbalan...</td>\n",
       "      <td>{'clf__C': 10.0, 'clf__class_weight': 'unbalan...</td>\n",
       "      <td>{'clf__C': 10.0, 'clf__class_weight': 'unbalan...</td>\n",
       "      <td>{'clf__C': 10.0, 'clf__class_weight': 'unbalan...</td>\n",
       "      <td>{'clf__C': 10.0, 'clf__class_weight': 'unbalan...</td>\n",
       "      <td>{'clf__C': 10.0, 'clf__class_weight': 'unbalan...</td>\n",
       "      <td>{'clf__C': 10.0, 'clf__class_weight': 'unbalan...</td>\n",
       "      <td>{'clf__C': 10.0, 'clf__class_weight': 'unbalan...</td>\n",
       "      <td>{'clf__C': 10.0, 'clf__class_weight': 'unbalan...</td>\n",
       "      <td>{'clf__C': 10.0, 'clf__class_weight': 'unbalan...</td>\n",
       "      <td>{'clf__C': 10.0, 'clf__class_weight': 'unbalan...</td>\n",
       "      <td>{'clf__C': 10.0, 'clf__class_weight': 'unbalan...</td>\n",
       "      <td>{'clf__C': 10.0, 'clf__class_weight': 'unbalan...</td>\n",
       "      <td>{'clf__C': 10.0, 'clf__class_weight': 'unbalan...</td>\n",
       "      <td>{'clf__C': 10.0, 'clf__class_weight': 'unbalan...</td>\n",
       "      <td>{'clf__C': 10.0, 'clf__class_weight': 'unbalan...</td>\n",
       "      <td>{'clf__C': 10.0, 'clf__class_weight': 'unbalan...</td>\n",
       "      <td>{'clf__C': 10.0, 'clf__class_weight': 'unbalan...</td>\n",
       "      <td>{'clf__C': 10.0, 'clf__class_weight': 'unbalan...</td>\n",
       "      <td>{'clf__C': 10.0, 'clf__class_weight': 'unbalan...</td>\n",
       "      <td>{'clf__C': 10.0, 'clf__class_weight': 'unbalan...</td>\n",
       "      <td>{'clf__C': 10.0, 'clf__class_weight': 'unbalan...</td>\n",
       "      <td>{'clf__C': 10.0, 'clf__class_weight': 'unbalan...</td>\n",
       "      <td>{'clf__C': 10.0, 'clf__class_weight': 'unbalan...</td>\n",
       "      <td>{'clf__C': 10.0, 'clf__class_weight': 'unbalan...</td>\n",
       "      <td>{'clf__C': 10.0, 'clf__class_weight': 'unbalan...</td>\n",
       "      <td>{'clf__C': 10.0, 'clf__class_weight': 'unbalan...</td>\n",
       "      <td>{'clf__C': 10.0, 'clf__class_weight': 'unbalan...</td>\n",
       "      <td>{'clf__C': 10.0, 'clf__class_weight': 'unbalan...</td>\n",
       "      <td>{'clf__C': 10.0, 'clf__class_weight': 'unbalan...</td>\n",
       "    </tr>\n",
       "    <tr>\n",
       "      <th>split0_test_score</th>\n",
       "      <td>0.849913</td>\n",
       "      <td>0.849913</td>\n",
       "      <td>0.844677</td>\n",
       "      <td>0.801047</td>\n",
       "      <td>0.801047</td>\n",
       "      <td>0.801047</td>\n",
       "      <td>0.801047</td>\n",
       "      <td>0.801047</td>\n",
       "      <td>0.801047</td>\n",
       "      <td>0.801047</td>\n",
       "      <td>0.801047</td>\n",
       "      <td>0.801047</td>\n",
       "      <td>0.801047</td>\n",
       "      <td>0.801047</td>\n",
       "      <td>0.801047</td>\n",
       "      <td>0.801047</td>\n",
       "      <td>0.801047</td>\n",
       "      <td>0.801047</td>\n",
       "      <td>0.801047</td>\n",
       "      <td>0.801047</td>\n",
       "      <td>0.801047</td>\n",
       "      <td>0.801047</td>\n",
       "      <td>0.801047</td>\n",
       "      <td>0.801047</td>\n",
       "      <td>0.801047</td>\n",
       "      <td>0.801047</td>\n",
       "      <td>0.801047</td>\n",
       "      <td>0.801047</td>\n",
       "      <td>0.801047</td>\n",
       "      <td>0.801047</td>\n",
       "      <td>0.801047</td>\n",
       "      <td>0.801047</td>\n",
       "      <td>0.801047</td>\n",
       "      <td>0.801047</td>\n",
       "      <td>0.801047</td>\n",
       "      <td>0.801047</td>\n",
       "      <td>0.801047</td>\n",
       "      <td>0.801047</td>\n",
       "      <td>0.801047</td>\n",
       "      <td>0.801047</td>\n",
       "      <td>...</td>\n",
       "      <td>NaN</td>\n",
       "      <td>NaN</td>\n",
       "      <td>NaN</td>\n",
       "      <td>NaN</td>\n",
       "      <td>NaN</td>\n",
       "      <td>NaN</td>\n",
       "      <td>NaN</td>\n",
       "      <td>NaN</td>\n",
       "      <td>NaN</td>\n",
       "      <td>NaN</td>\n",
       "      <td>NaN</td>\n",
       "      <td>NaN</td>\n",
       "      <td>NaN</td>\n",
       "      <td>NaN</td>\n",
       "      <td>NaN</td>\n",
       "      <td>NaN</td>\n",
       "      <td>NaN</td>\n",
       "      <td>NaN</td>\n",
       "      <td>NaN</td>\n",
       "      <td>NaN</td>\n",
       "      <td>NaN</td>\n",
       "      <td>NaN</td>\n",
       "      <td>NaN</td>\n",
       "      <td>NaN</td>\n",
       "      <td>NaN</td>\n",
       "      <td>NaN</td>\n",
       "      <td>NaN</td>\n",
       "      <td>NaN</td>\n",
       "      <td>NaN</td>\n",
       "      <td>NaN</td>\n",
       "      <td>NaN</td>\n",
       "      <td>NaN</td>\n",
       "      <td>NaN</td>\n",
       "      <td>NaN</td>\n",
       "      <td>NaN</td>\n",
       "      <td>NaN</td>\n",
       "      <td>NaN</td>\n",
       "      <td>NaN</td>\n",
       "      <td>NaN</td>\n",
       "      <td>NaN</td>\n",
       "    </tr>\n",
       "    <tr>\n",
       "      <th>split1_test_score</th>\n",
       "      <td>0.832461</td>\n",
       "      <td>0.832461</td>\n",
       "      <td>0.82548</td>\n",
       "      <td>0.794066</td>\n",
       "      <td>0.760908</td>\n",
       "      <td>0.760908</td>\n",
       "      <td>0.760908</td>\n",
       "      <td>0.760908</td>\n",
       "      <td>0.760908</td>\n",
       "      <td>0.760908</td>\n",
       "      <td>0.760908</td>\n",
       "      <td>0.760908</td>\n",
       "      <td>0.760908</td>\n",
       "      <td>0.760908</td>\n",
       "      <td>0.760908</td>\n",
       "      <td>0.760908</td>\n",
       "      <td>0.760908</td>\n",
       "      <td>0.760908</td>\n",
       "      <td>0.760908</td>\n",
       "      <td>0.760908</td>\n",
       "      <td>0.760908</td>\n",
       "      <td>0.760908</td>\n",
       "      <td>0.760908</td>\n",
       "      <td>0.760908</td>\n",
       "      <td>0.760908</td>\n",
       "      <td>0.760908</td>\n",
       "      <td>0.760908</td>\n",
       "      <td>0.760908</td>\n",
       "      <td>0.760908</td>\n",
       "      <td>0.760908</td>\n",
       "      <td>0.760908</td>\n",
       "      <td>0.760908</td>\n",
       "      <td>0.760908</td>\n",
       "      <td>0.760908</td>\n",
       "      <td>0.760908</td>\n",
       "      <td>0.760908</td>\n",
       "      <td>0.760908</td>\n",
       "      <td>0.760908</td>\n",
       "      <td>0.760908</td>\n",
       "      <td>0.760908</td>\n",
       "      <td>...</td>\n",
       "      <td>NaN</td>\n",
       "      <td>NaN</td>\n",
       "      <td>NaN</td>\n",
       "      <td>NaN</td>\n",
       "      <td>NaN</td>\n",
       "      <td>NaN</td>\n",
       "      <td>NaN</td>\n",
       "      <td>NaN</td>\n",
       "      <td>NaN</td>\n",
       "      <td>NaN</td>\n",
       "      <td>NaN</td>\n",
       "      <td>NaN</td>\n",
       "      <td>NaN</td>\n",
       "      <td>NaN</td>\n",
       "      <td>NaN</td>\n",
       "      <td>NaN</td>\n",
       "      <td>NaN</td>\n",
       "      <td>NaN</td>\n",
       "      <td>NaN</td>\n",
       "      <td>NaN</td>\n",
       "      <td>NaN</td>\n",
       "      <td>NaN</td>\n",
       "      <td>NaN</td>\n",
       "      <td>NaN</td>\n",
       "      <td>NaN</td>\n",
       "      <td>NaN</td>\n",
       "      <td>NaN</td>\n",
       "      <td>NaN</td>\n",
       "      <td>NaN</td>\n",
       "      <td>NaN</td>\n",
       "      <td>NaN</td>\n",
       "      <td>NaN</td>\n",
       "      <td>NaN</td>\n",
       "      <td>NaN</td>\n",
       "      <td>NaN</td>\n",
       "      <td>NaN</td>\n",
       "      <td>NaN</td>\n",
       "      <td>NaN</td>\n",
       "      <td>NaN</td>\n",
       "      <td>NaN</td>\n",
       "    </tr>\n",
       "    <tr>\n",
       "      <th>split2_test_score</th>\n",
       "      <td>0.818499</td>\n",
       "      <td>0.818499</td>\n",
       "      <td>0.815009</td>\n",
       "      <td>0.774869</td>\n",
       "      <td>0.780105</td>\n",
       "      <td>0.780105</td>\n",
       "      <td>0.780105</td>\n",
       "      <td>0.780105</td>\n",
       "      <td>0.780105</td>\n",
       "      <td>0.780105</td>\n",
       "      <td>0.780105</td>\n",
       "      <td>0.780105</td>\n",
       "      <td>0.780105</td>\n",
       "      <td>0.780105</td>\n",
       "      <td>0.780105</td>\n",
       "      <td>0.780105</td>\n",
       "      <td>0.780105</td>\n",
       "      <td>0.780105</td>\n",
       "      <td>0.780105</td>\n",
       "      <td>0.780105</td>\n",
       "      <td>0.780105</td>\n",
       "      <td>0.780105</td>\n",
       "      <td>0.780105</td>\n",
       "      <td>0.780105</td>\n",
       "      <td>0.780105</td>\n",
       "      <td>0.780105</td>\n",
       "      <td>0.780105</td>\n",
       "      <td>0.780105</td>\n",
       "      <td>0.780105</td>\n",
       "      <td>0.780105</td>\n",
       "      <td>0.780105</td>\n",
       "      <td>0.780105</td>\n",
       "      <td>0.780105</td>\n",
       "      <td>0.780105</td>\n",
       "      <td>0.780105</td>\n",
       "      <td>0.780105</td>\n",
       "      <td>0.780105</td>\n",
       "      <td>0.780105</td>\n",
       "      <td>0.780105</td>\n",
       "      <td>0.780105</td>\n",
       "      <td>...</td>\n",
       "      <td>NaN</td>\n",
       "      <td>NaN</td>\n",
       "      <td>NaN</td>\n",
       "      <td>NaN</td>\n",
       "      <td>NaN</td>\n",
       "      <td>NaN</td>\n",
       "      <td>NaN</td>\n",
       "      <td>NaN</td>\n",
       "      <td>NaN</td>\n",
       "      <td>NaN</td>\n",
       "      <td>NaN</td>\n",
       "      <td>NaN</td>\n",
       "      <td>NaN</td>\n",
       "      <td>NaN</td>\n",
       "      <td>NaN</td>\n",
       "      <td>NaN</td>\n",
       "      <td>NaN</td>\n",
       "      <td>NaN</td>\n",
       "      <td>NaN</td>\n",
       "      <td>NaN</td>\n",
       "      <td>NaN</td>\n",
       "      <td>NaN</td>\n",
       "      <td>NaN</td>\n",
       "      <td>NaN</td>\n",
       "      <td>NaN</td>\n",
       "      <td>NaN</td>\n",
       "      <td>NaN</td>\n",
       "      <td>NaN</td>\n",
       "      <td>NaN</td>\n",
       "      <td>NaN</td>\n",
       "      <td>NaN</td>\n",
       "      <td>NaN</td>\n",
       "      <td>NaN</td>\n",
       "      <td>NaN</td>\n",
       "      <td>NaN</td>\n",
       "      <td>NaN</td>\n",
       "      <td>NaN</td>\n",
       "      <td>NaN</td>\n",
       "      <td>NaN</td>\n",
       "      <td>NaN</td>\n",
       "    </tr>\n",
       "    <tr>\n",
       "      <th>split3_test_score</th>\n",
       "      <td>0.832461</td>\n",
       "      <td>0.832461</td>\n",
       "      <td>0.823735</td>\n",
       "      <td>0.787086</td>\n",
       "      <td>0.77836</td>\n",
       "      <td>0.77836</td>\n",
       "      <td>0.77836</td>\n",
       "      <td>0.77836</td>\n",
       "      <td>0.77836</td>\n",
       "      <td>0.77836</td>\n",
       "      <td>0.77836</td>\n",
       "      <td>0.77836</td>\n",
       "      <td>0.77836</td>\n",
       "      <td>0.77836</td>\n",
       "      <td>0.77836</td>\n",
       "      <td>0.77836</td>\n",
       "      <td>0.77836</td>\n",
       "      <td>0.77836</td>\n",
       "      <td>0.77836</td>\n",
       "      <td>0.77836</td>\n",
       "      <td>0.77836</td>\n",
       "      <td>0.77836</td>\n",
       "      <td>0.77836</td>\n",
       "      <td>0.77836</td>\n",
       "      <td>0.77836</td>\n",
       "      <td>0.77836</td>\n",
       "      <td>0.77836</td>\n",
       "      <td>0.77836</td>\n",
       "      <td>0.77836</td>\n",
       "      <td>0.77836</td>\n",
       "      <td>0.77836</td>\n",
       "      <td>0.77836</td>\n",
       "      <td>0.77836</td>\n",
       "      <td>0.77836</td>\n",
       "      <td>0.77836</td>\n",
       "      <td>0.77836</td>\n",
       "      <td>0.77836</td>\n",
       "      <td>0.77836</td>\n",
       "      <td>0.77836</td>\n",
       "      <td>0.77836</td>\n",
       "      <td>...</td>\n",
       "      <td>NaN</td>\n",
       "      <td>NaN</td>\n",
       "      <td>NaN</td>\n",
       "      <td>NaN</td>\n",
       "      <td>NaN</td>\n",
       "      <td>NaN</td>\n",
       "      <td>NaN</td>\n",
       "      <td>NaN</td>\n",
       "      <td>NaN</td>\n",
       "      <td>NaN</td>\n",
       "      <td>NaN</td>\n",
       "      <td>NaN</td>\n",
       "      <td>NaN</td>\n",
       "      <td>NaN</td>\n",
       "      <td>NaN</td>\n",
       "      <td>NaN</td>\n",
       "      <td>NaN</td>\n",
       "      <td>NaN</td>\n",
       "      <td>NaN</td>\n",
       "      <td>NaN</td>\n",
       "      <td>NaN</td>\n",
       "      <td>NaN</td>\n",
       "      <td>NaN</td>\n",
       "      <td>NaN</td>\n",
       "      <td>NaN</td>\n",
       "      <td>NaN</td>\n",
       "      <td>NaN</td>\n",
       "      <td>NaN</td>\n",
       "      <td>NaN</td>\n",
       "      <td>NaN</td>\n",
       "      <td>NaN</td>\n",
       "      <td>NaN</td>\n",
       "      <td>NaN</td>\n",
       "      <td>NaN</td>\n",
       "      <td>NaN</td>\n",
       "      <td>NaN</td>\n",
       "      <td>NaN</td>\n",
       "      <td>NaN</td>\n",
       "      <td>NaN</td>\n",
       "      <td>NaN</td>\n",
       "    </tr>\n",
       "    <tr>\n",
       "      <th>split4_test_score</th>\n",
       "      <td>0.837696</td>\n",
       "      <td>0.837696</td>\n",
       "      <td>0.830716</td>\n",
       "      <td>0.804538</td>\n",
       "      <td>0.78185</td>\n",
       "      <td>0.78185</td>\n",
       "      <td>0.78185</td>\n",
       "      <td>0.78185</td>\n",
       "      <td>0.78185</td>\n",
       "      <td>0.78185</td>\n",
       "      <td>0.78185</td>\n",
       "      <td>0.78185</td>\n",
       "      <td>0.78185</td>\n",
       "      <td>0.78185</td>\n",
       "      <td>0.78185</td>\n",
       "      <td>0.78185</td>\n",
       "      <td>0.78185</td>\n",
       "      <td>0.78185</td>\n",
       "      <td>0.78185</td>\n",
       "      <td>0.78185</td>\n",
       "      <td>0.78185</td>\n",
       "      <td>0.78185</td>\n",
       "      <td>0.78185</td>\n",
       "      <td>0.78185</td>\n",
       "      <td>0.78185</td>\n",
       "      <td>0.78185</td>\n",
       "      <td>0.78185</td>\n",
       "      <td>0.78185</td>\n",
       "      <td>0.78185</td>\n",
       "      <td>0.78185</td>\n",
       "      <td>0.78185</td>\n",
       "      <td>0.78185</td>\n",
       "      <td>0.78185</td>\n",
       "      <td>0.78185</td>\n",
       "      <td>0.78185</td>\n",
       "      <td>0.78185</td>\n",
       "      <td>0.78185</td>\n",
       "      <td>0.78185</td>\n",
       "      <td>0.78185</td>\n",
       "      <td>0.78185</td>\n",
       "      <td>...</td>\n",
       "      <td>NaN</td>\n",
       "      <td>NaN</td>\n",
       "      <td>NaN</td>\n",
       "      <td>NaN</td>\n",
       "      <td>NaN</td>\n",
       "      <td>NaN</td>\n",
       "      <td>NaN</td>\n",
       "      <td>NaN</td>\n",
       "      <td>NaN</td>\n",
       "      <td>NaN</td>\n",
       "      <td>NaN</td>\n",
       "      <td>NaN</td>\n",
       "      <td>NaN</td>\n",
       "      <td>NaN</td>\n",
       "      <td>NaN</td>\n",
       "      <td>NaN</td>\n",
       "      <td>NaN</td>\n",
       "      <td>NaN</td>\n",
       "      <td>NaN</td>\n",
       "      <td>NaN</td>\n",
       "      <td>NaN</td>\n",
       "      <td>NaN</td>\n",
       "      <td>NaN</td>\n",
       "      <td>NaN</td>\n",
       "      <td>NaN</td>\n",
       "      <td>NaN</td>\n",
       "      <td>NaN</td>\n",
       "      <td>NaN</td>\n",
       "      <td>NaN</td>\n",
       "      <td>NaN</td>\n",
       "      <td>NaN</td>\n",
       "      <td>NaN</td>\n",
       "      <td>NaN</td>\n",
       "      <td>NaN</td>\n",
       "      <td>NaN</td>\n",
       "      <td>NaN</td>\n",
       "      <td>NaN</td>\n",
       "      <td>NaN</td>\n",
       "      <td>NaN</td>\n",
       "      <td>NaN</td>\n",
       "    </tr>\n",
       "    <tr>\n",
       "      <th>mean_test_score</th>\n",
       "      <td>0.834206</td>\n",
       "      <td>0.834206</td>\n",
       "      <td>0.827923</td>\n",
       "      <td>0.792321</td>\n",
       "      <td>0.780454</td>\n",
       "      <td>0.780454</td>\n",
       "      <td>0.780454</td>\n",
       "      <td>0.780454</td>\n",
       "      <td>0.780454</td>\n",
       "      <td>0.780454</td>\n",
       "      <td>0.780454</td>\n",
       "      <td>0.780454</td>\n",
       "      <td>0.780454</td>\n",
       "      <td>0.780454</td>\n",
       "      <td>0.780454</td>\n",
       "      <td>0.780454</td>\n",
       "      <td>0.780454</td>\n",
       "      <td>0.780454</td>\n",
       "      <td>0.780454</td>\n",
       "      <td>0.780454</td>\n",
       "      <td>0.780454</td>\n",
       "      <td>0.780454</td>\n",
       "      <td>0.780454</td>\n",
       "      <td>0.780454</td>\n",
       "      <td>0.780454</td>\n",
       "      <td>0.780454</td>\n",
       "      <td>0.780454</td>\n",
       "      <td>0.780454</td>\n",
       "      <td>0.780454</td>\n",
       "      <td>0.780454</td>\n",
       "      <td>0.780454</td>\n",
       "      <td>0.780454</td>\n",
       "      <td>0.780454</td>\n",
       "      <td>0.780454</td>\n",
       "      <td>0.780454</td>\n",
       "      <td>0.780454</td>\n",
       "      <td>0.780454</td>\n",
       "      <td>0.780454</td>\n",
       "      <td>0.780454</td>\n",
       "      <td>0.780454</td>\n",
       "      <td>...</td>\n",
       "      <td>NaN</td>\n",
       "      <td>NaN</td>\n",
       "      <td>NaN</td>\n",
       "      <td>NaN</td>\n",
       "      <td>NaN</td>\n",
       "      <td>NaN</td>\n",
       "      <td>NaN</td>\n",
       "      <td>NaN</td>\n",
       "      <td>NaN</td>\n",
       "      <td>NaN</td>\n",
       "      <td>NaN</td>\n",
       "      <td>NaN</td>\n",
       "      <td>NaN</td>\n",
       "      <td>NaN</td>\n",
       "      <td>NaN</td>\n",
       "      <td>NaN</td>\n",
       "      <td>NaN</td>\n",
       "      <td>NaN</td>\n",
       "      <td>NaN</td>\n",
       "      <td>NaN</td>\n",
       "      <td>NaN</td>\n",
       "      <td>NaN</td>\n",
       "      <td>NaN</td>\n",
       "      <td>NaN</td>\n",
       "      <td>NaN</td>\n",
       "      <td>NaN</td>\n",
       "      <td>NaN</td>\n",
       "      <td>NaN</td>\n",
       "      <td>NaN</td>\n",
       "      <td>NaN</td>\n",
       "      <td>NaN</td>\n",
       "      <td>NaN</td>\n",
       "      <td>NaN</td>\n",
       "      <td>NaN</td>\n",
       "      <td>NaN</td>\n",
       "      <td>NaN</td>\n",
       "      <td>NaN</td>\n",
       "      <td>NaN</td>\n",
       "      <td>NaN</td>\n",
       "      <td>NaN</td>\n",
       "    </tr>\n",
       "    <tr>\n",
       "      <th>std_test_score</th>\n",
       "      <td>0.0101161</td>\n",
       "      <td>0.0101161</td>\n",
       "      <td>0.00978558</td>\n",
       "      <td>0.0105869</td>\n",
       "      <td>0.0127483</td>\n",
       "      <td>0.0127483</td>\n",
       "      <td>0.0127483</td>\n",
       "      <td>0.0127483</td>\n",
       "      <td>0.0127483</td>\n",
       "      <td>0.0127483</td>\n",
       "      <td>0.0127483</td>\n",
       "      <td>0.0127483</td>\n",
       "      <td>0.0127483</td>\n",
       "      <td>0.0127483</td>\n",
       "      <td>0.0127483</td>\n",
       "      <td>0.0127483</td>\n",
       "      <td>0.0127483</td>\n",
       "      <td>0.0127483</td>\n",
       "      <td>0.0127483</td>\n",
       "      <td>0.0127483</td>\n",
       "      <td>0.0127483</td>\n",
       "      <td>0.0127483</td>\n",
       "      <td>0.0127483</td>\n",
       "      <td>0.0127483</td>\n",
       "      <td>0.0127483</td>\n",
       "      <td>0.0127483</td>\n",
       "      <td>0.0127483</td>\n",
       "      <td>0.0127483</td>\n",
       "      <td>0.0127483</td>\n",
       "      <td>0.0127483</td>\n",
       "      <td>0.0127483</td>\n",
       "      <td>0.0127483</td>\n",
       "      <td>0.0127483</td>\n",
       "      <td>0.0127483</td>\n",
       "      <td>0.0127483</td>\n",
       "      <td>0.0127483</td>\n",
       "      <td>0.0127483</td>\n",
       "      <td>0.0127483</td>\n",
       "      <td>0.0127483</td>\n",
       "      <td>0.0127483</td>\n",
       "      <td>...</td>\n",
       "      <td>NaN</td>\n",
       "      <td>NaN</td>\n",
       "      <td>NaN</td>\n",
       "      <td>NaN</td>\n",
       "      <td>NaN</td>\n",
       "      <td>NaN</td>\n",
       "      <td>NaN</td>\n",
       "      <td>NaN</td>\n",
       "      <td>NaN</td>\n",
       "      <td>NaN</td>\n",
       "      <td>NaN</td>\n",
       "      <td>NaN</td>\n",
       "      <td>NaN</td>\n",
       "      <td>NaN</td>\n",
       "      <td>NaN</td>\n",
       "      <td>NaN</td>\n",
       "      <td>NaN</td>\n",
       "      <td>NaN</td>\n",
       "      <td>NaN</td>\n",
       "      <td>NaN</td>\n",
       "      <td>NaN</td>\n",
       "      <td>NaN</td>\n",
       "      <td>NaN</td>\n",
       "      <td>NaN</td>\n",
       "      <td>NaN</td>\n",
       "      <td>NaN</td>\n",
       "      <td>NaN</td>\n",
       "      <td>NaN</td>\n",
       "      <td>NaN</td>\n",
       "      <td>NaN</td>\n",
       "      <td>NaN</td>\n",
       "      <td>NaN</td>\n",
       "      <td>NaN</td>\n",
       "      <td>NaN</td>\n",
       "      <td>NaN</td>\n",
       "      <td>NaN</td>\n",
       "      <td>NaN</td>\n",
       "      <td>NaN</td>\n",
       "      <td>NaN</td>\n",
       "      <td>NaN</td>\n",
       "    </tr>\n",
       "    <tr>\n",
       "      <th>rank_test_score</th>\n",
       "      <td>1</td>\n",
       "      <td>1</td>\n",
       "      <td>3</td>\n",
       "      <td>4</td>\n",
       "      <td>5</td>\n",
       "      <td>5</td>\n",
       "      <td>5</td>\n",
       "      <td>5</td>\n",
       "      <td>5</td>\n",
       "      <td>5</td>\n",
       "      <td>5</td>\n",
       "      <td>5</td>\n",
       "      <td>5</td>\n",
       "      <td>5</td>\n",
       "      <td>5</td>\n",
       "      <td>5</td>\n",
       "      <td>5</td>\n",
       "      <td>5</td>\n",
       "      <td>5</td>\n",
       "      <td>5</td>\n",
       "      <td>5</td>\n",
       "      <td>5</td>\n",
       "      <td>5</td>\n",
       "      <td>5</td>\n",
       "      <td>5</td>\n",
       "      <td>5</td>\n",
       "      <td>5</td>\n",
       "      <td>5</td>\n",
       "      <td>5</td>\n",
       "      <td>5</td>\n",
       "      <td>5</td>\n",
       "      <td>5</td>\n",
       "      <td>5</td>\n",
       "      <td>5</td>\n",
       "      <td>5</td>\n",
       "      <td>5</td>\n",
       "      <td>5</td>\n",
       "      <td>5</td>\n",
       "      <td>5</td>\n",
       "      <td>5</td>\n",
       "      <td>...</td>\n",
       "      <td>3765</td>\n",
       "      <td>3764</td>\n",
       "      <td>3763</td>\n",
       "      <td>3762</td>\n",
       "      <td>3760</td>\n",
       "      <td>3759</td>\n",
       "      <td>3758</td>\n",
       "      <td>3757</td>\n",
       "      <td>3755</td>\n",
       "      <td>3754</td>\n",
       "      <td>3753</td>\n",
       "      <td>3752</td>\n",
       "      <td>3750</td>\n",
       "      <td>3749</td>\n",
       "      <td>3748</td>\n",
       "      <td>3747</td>\n",
       "      <td>3745</td>\n",
       "      <td>3766</td>\n",
       "      <td>3767</td>\n",
       "      <td>3768</td>\n",
       "      <td>3791</td>\n",
       "      <td>3790</td>\n",
       "      <td>3789</td>\n",
       "      <td>3788</td>\n",
       "      <td>3786</td>\n",
       "      <td>3785</td>\n",
       "      <td>3784</td>\n",
       "      <td>3783</td>\n",
       "      <td>3792</td>\n",
       "      <td>3781</td>\n",
       "      <td>3779</td>\n",
       "      <td>3778</td>\n",
       "      <td>3777</td>\n",
       "      <td>3776</td>\n",
       "      <td>3775</td>\n",
       "      <td>3774</td>\n",
       "      <td>3772</td>\n",
       "      <td>3771</td>\n",
       "      <td>3770</td>\n",
       "      <td>6740</td>\n",
       "    </tr>\n",
       "  </tbody>\n",
       "</table>\n",
       "<p>18 rows × 8170 columns</p>\n",
       "</div>"
      ],
      "text/plain": [
       "                                                                      90    ...                                               8168\n",
       "mean_fit_time                                                    0.0179735  ...                                          0.0108295\n",
       "std_fit_time                                                   0.000595927  ...                                         0.00614706\n",
       "mean_score_time                                                 0.00422058  ...                                                  0\n",
       "std_score_time                                                 0.000301179  ...                                                  0\n",
       "param_clf__class_weight                                           balanced  ...                                         unbalanced\n",
       "param_clf__penalty                                                      l2  ...                                         elasticnet\n",
       "param_clf__solver                                                liblinear  ...                                                sag\n",
       "param_clf__C                                                         1e-06  ...                                                 10\n",
       "param_clf__l1_ratio                                                    NaN  ...                                               0.99\n",
       "params                   {'clf__C': 1e-06, 'clf__class_weight': 'balanc...  ...  {'clf__C': 10.0, 'clf__class_weight': 'unbalan...\n",
       "split0_test_score                                                 0.849913  ...                                                NaN\n",
       "split1_test_score                                                 0.832461  ...                                                NaN\n",
       "split2_test_score                                                 0.818499  ...                                                NaN\n",
       "split3_test_score                                                 0.832461  ...                                                NaN\n",
       "split4_test_score                                                 0.837696  ...                                                NaN\n",
       "mean_test_score                                                   0.834206  ...                                                NaN\n",
       "std_test_score                                                   0.0101161  ...                                                NaN\n",
       "rank_test_score                                                          1  ...                                               6740\n",
       "\n",
       "[18 rows x 8170 columns]"
      ]
     },
     "execution_count": 130,
     "metadata": {
      "tags": []
     },
     "output_type": "execute_result"
    }
   ],
   "source": [
    "pd.DataFrame(clf.cv_results_).sort_values(by='mean_test_score',ascending=False).transpose()"
   ]
  },
  {
   "cell_type": "markdown",
   "metadata": {
    "colab_type": "text",
    "id": "IG467LCGqOKJ"
   },
   "source": [
    "The first model was selected, as it has the highest mean_test_score and a lower mean_fit_time than the second model in the ranking."
   ]
  },
  {
   "cell_type": "code",
   "execution_count": 0,
   "metadata": {
    "colab": {
     "base_uri": "https://localhost:8080/",
     "height": 173
    },
    "colab_type": "code",
    "id": "BAzNbQE1Xbva",
    "outputId": "9fd0c5c8-7433-400b-f4d0-ebcd5bf277fa"
   },
   "outputs": [
    {
     "name": "stdout",
     "output_type": "stream",
     "text": [
      "              precision    recall  f1-score   support\n",
      "\n",
      "           0       0.93      0.64      0.76      2294\n",
      "           1       0.42      0.84      0.56       706\n",
      "\n",
      "    accuracy                           0.69      3000\n",
      "   macro avg       0.67      0.74      0.66      3000\n",
      "weighted avg       0.81      0.69      0.71      3000\n",
      "\n"
     ]
    }
   ],
   "source": [
    "print(classification_report(y_val,clf.predict(x_val)))"
   ]
  },
  {
   "cell_type": "markdown",
   "metadata": {
    "colab_type": "text",
    "id": "aGVaSivW1m5g"
   },
   "source": [
    "The model seems to correctly identify churning employees 75% of the time."
   ]
  },
  {
   "cell_type": "code",
   "execution_count": 0,
   "metadata": {
    "colab": {
     "base_uri": "https://localhost:8080/",
     "height": 191
    },
    "colab_type": "code",
    "id": "f4BQ_dkpUzhI",
    "outputId": "fb7959d8-583a-445f-e4b1-b39ee48ebbe6"
   },
   "outputs": [
    {
     "data": {
      "text/plain": [
       "satisfaction_level      -0.0028\n",
       "last_evaluation          0.0001\n",
       "number_project           0.0002\n",
       "average_montly_hours     0.0006\n",
       "time_spend_company       0.0010\n",
       "Work_accident           -0.0011\n",
       "promotion_last_5years   -0.0004\n",
       "sales                    0.0000\n",
       "salary                   0.0000\n",
       "dtype: float64"
      ]
     },
     "execution_count": 114,
     "metadata": {
      "tags": []
     },
     "output_type": "execute_result"
    }
   ],
   "source": [
    "pd.Series(clf.best_estimator_.named_steps['clf'].coef_.round(4)[0],\n",
    "          index = x.columns)"
   ]
  },
  {
   "cell_type": "markdown",
   "metadata": {
    "colab_type": "text",
    "id": "zqbeOX8dge_4"
   },
   "source": [
    "#Estimator"
   ]
  },
  {
   "cell_type": "code",
   "execution_count": 0,
   "metadata": {
    "colab": {
     "base_uri": "https://localhost:8080/",
     "height": 225
    },
    "colab_type": "code",
    "id": "ciWE_lIigFNJ",
    "outputId": "eaaed8e7-0ceb-42b9-e9c9-5e991622f2ef"
   },
   "outputs": [
    {
     "data": {
      "text/plain": [
       "Pipeline(memory=None,\n",
       "         steps=[('scaler',\n",
       "                 StandardScaler(copy=True, with_mean=True, with_std=True)),\n",
       "                ('clf',\n",
       "                 LogisticRegression(C=1e-06, class_weight='balanced',\n",
       "                                    dual=False, fit_intercept=True,\n",
       "                                    intercept_scaling=1, l1_ratio=None,\n",
       "                                    max_iter=100, multi_class='auto',\n",
       "                                    n_jobs=None, penalty='l2', random_state=42,\n",
       "                                    solver='liblinear', tol=0.0001, verbose=0,\n",
       "                                    warm_start=False))],\n",
       "         verbose=False)"
      ]
     },
     "execution_count": 118,
     "metadata": {
      "tags": []
     },
     "output_type": "execute_result"
    }
   ],
   "source": [
    "#set variables\n",
    "data['salary'] = np.where(data['salary'].isin(['low','medium']), 1, 0)\n",
    "data['sales'] = np.where(data['sales'].isin(['RandD','management']), 0, 1)\n",
    "x = data.drop(['id','churn'],axis=1)\n",
    "y = data['churn']\n",
    "\n",
    "x_train, x_val, y_train, y_val = train_test_split(x,y,\n",
    "                                                  test_size = 0.2,\n",
    "                                                  random_state = 12)\n",
    "\n",
    "#Make pipe, but change solver\n",
    "estimator = Pipeline(steps = [('scaler', StandardScaler()), \n",
    "                              ('clf', LogisticRegression(penalty = 'l2', \n",
    "                                                        class_weight = 'balanced', \n",
    "                                                        solver = 'liblinear', \n",
    "                                                        random_state=42,\n",
    "                                                        C = 1e-06))])\n",
    "\n",
    "estimator.fit(x_train,y_train)"
   ]
  },
  {
   "cell_type": "code",
   "execution_count": 0,
   "metadata": {
    "colab": {
     "base_uri": "https://localhost:8080/",
     "height": 35
    },
    "colab_type": "code",
    "id": "2oWDY1uRhCtN",
    "outputId": "c7f9ecf1-656d-4982-eb0f-f3fa6cffb722"
   },
   "outputs": [
    {
     "data": {
      "text/plain": [
       "array([2], dtype=int32)"
      ]
     },
     "execution_count": 119,
     "metadata": {
      "tags": []
     },
     "output_type": "execute_result"
    }
   ],
   "source": [
    "estimator.named_steps['clf'].n_iter_"
   ]
  },
  {
   "cell_type": "code",
   "execution_count": 0,
   "metadata": {
    "colab": {
     "base_uri": "https://localhost:8080/",
     "height": 139
    },
    "colab_type": "code",
    "id": "DuCFUI3U0aIM",
    "outputId": "6e38f01b-d248-436e-85d6-83a703b4efcd"
   },
   "outputs": [
    {
     "name": "stdout",
     "output_type": "stream",
     "text": [
      "Log-Loss\n",
      "Train: 10.858\n",
      "Validation: 10.799\n",
      "-------------\n",
      "Recall Score\n",
      "Train: 0.829\n",
      "Validation: 0.851\n"
     ]
    }
   ],
   "source": [
    "# log loss (true y label, with prediction probabilities)\n",
    "print('Log-Loss')\n",
    "print(f'Train: {log_loss(  y_train , estimator.predict(x_train) ).round(3)}')\n",
    "print(f'Validation: {log_loss( y_val , estimator.predict(x_val) ).round(3)}')\n",
    "print('-------------')\n",
    "#Recall Score\n",
    "print('Recall Score')\n",
    "print(f'Train: {recall_score( y_train, estimator.predict(x_train) ).round(3)}')\n",
    "print(f'Validation: {recall_score( y_val, estimator.predict(x_val) ).round(3)}')"
   ]
  },
  {
   "cell_type": "markdown",
   "metadata": {
    "colab_type": "text",
    "id": "WMrBeKzZ3A4u"
   },
   "source": [
    "###Model Equation"
   ]
  },
  {
   "cell_type": "code",
   "execution_count": 0,
   "metadata": {
    "colab": {
     "base_uri": "https://localhost:8080/",
     "height": 191
    },
    "colab_type": "code",
    "id": "MlM2VDFecmzr",
    "outputId": "58444423-16de-417a-9aec-3c7709049f39"
   },
   "outputs": [
    {
     "data": {
      "text/plain": [
       "satisfaction_level      -0.0027\n",
       "last_evaluation          0.0001\n",
       "number_project           0.0002\n",
       "average_montly_hours     0.0005\n",
       "time_spend_company       0.0010\n",
       "Work_accident           -0.0011\n",
       "promotion_last_5years   -0.0005\n",
       "sales                    0.0000\n",
       "salary                   0.0000\n",
       "dtype: float64"
      ]
     },
     "execution_count": 120,
     "metadata": {
      "tags": []
     },
     "output_type": "execute_result"
    }
   ],
   "source": [
    "pd.Series(estimator.named_steps['clf'].coef_.round(4)[0], index = x.columns)"
   ]
  },
  {
   "cell_type": "code",
   "execution_count": 0,
   "metadata": {
    "colab": {
     "base_uri": "https://localhost:8080/",
     "height": 35
    },
    "colab_type": "code",
    "id": "-HLbcJur3APb",
    "outputId": "02fe123f-b623-4eb3-8a9a-c9cd4d439c4b"
   },
   "outputs": [
    {
     "data": {
      "text/plain": [
       "-3e-06"
      ]
     },
     "execution_count": 135,
     "metadata": {
      "tags": []
     },
     "output_type": "execute_result"
    }
   ],
   "source": [
    "estimator.named_steps['clf'].intercept_.round(6)[0]"
   ]
  },
  {
   "cell_type": "markdown",
   "metadata": {
    "colab_type": "text",
    "id": "GHPx4VNg0XP0"
   },
   "source": [
    "#Conclusion\n",
    "\n",
    "The most impactful factor for churning is the satisfaction level of employees. The time spent with the company and accidents in the workplace are the next important determining factors.\n",
    "\n",
    "However it seems like the performance metrics such as salary, promotions, monthly hours and the evaluation do not play as large as a role in determining wether an employee will churn.\n",
    "\n",
    "**Suggestion**\n",
    "\n",
    "Based on these factors it might be important to focus on employee satisfaction, rather than whether or not the employee is a high performer. The data suggests that performance isn't as much as a factor. It should be determined through further investigation what causes employees to be dissatisfied with the company.\n",
    "\n",
    "If we want to further investigate the notion of high performers leaving, then we would need more data to significantly show this trend, as the current data does not suggest this."
   ]
  },
  {
   "cell_type": "code",
   "execution_count": 0,
   "metadata": {
    "colab": {},
    "colab_type": "code",
    "id": "BFeoYntC06z4"
   },
   "outputs": [],
   "source": []
  }
 ],
 "metadata": {
  "colab": {
   "collapsed_sections": [
    "zB70gWuR5oVa",
    "54BC_BygYVex",
    "yAjc4lINYz5y",
    "-jq0LImePb1M",
    "uaBGWAAV4XZv",
    "x_mAxlce3at_",
    "oUwvuraG54N-",
    "BigGOr9v4rmn",
    "Ii7aX51BEVj8",
    "-II2l1DDKSO6",
    "zqbeOX8dge_4",
    "WMrBeKzZ3A4u"
   ],
   "name": "Project4.ipynb",
   "provenance": []
  },
  "kernelspec": {
   "display_name": "Python 3",
   "language": "python",
   "name": "python3"
  },
  "language_info": {
   "codemirror_mode": {
    "name": "ipython",
    "version": 3
   },
   "file_extension": ".py",
   "mimetype": "text/x-python",
   "name": "python",
   "nbconvert_exporter": "python",
   "pygments_lexer": "ipython3",
   "version": "3.6.9"
  }
 },
 "nbformat": 4,
 "nbformat_minor": 1
}
